{
 "cells": [
  {
   "cell_type": "code",
   "id": "initial_id",
   "metadata": {
    "collapsed": true,
    "ExecuteTime": {
     "end_time": "2025-02-04T12:49:27.826932Z",
     "start_time": "2025-02-04T12:49:27.811425Z"
    }
   },
   "source": [
    "import pandas as pd\n",
    "\n",
    "\n",
    "def f(dist):\n",
    "    if dist <= 300:\n",
    "        return 'домашний_регион'\n",
    "    elif dist <= 700:\n",
    "        return 'не_так_далеко'\n",
    "    return 'дальнее_путешествие'\n",
    "\n",
    "\n",
    "# df = pd.read_csv('data.csv', sep=';', skipinitialspace=True, encoding='cp1251')\n",
    "df = pd.read_csv('data_1.csv', sep=',', skipinitialspace=True, encoding='utf-8')\n",
    "\n",
    "df['расстояние_кат'] = df['расстояние'].apply(lambda x: f(x))\n",
    "\n",
    "df = df[df['общая_оценка_качества_предоставленной_услуги'] == 'плохо']\n",
    "\n",
    "df1 = df.groupby(['расстояние_кат', 'путешествует_с_детьми']).size()\n",
    "df1 = df1.groupby(level=0, group_keys=False).apply(lambda x: round(100 * x / float(x.sum()), 1))\n",
    "\n",
    "df1 = pd.DataFrame(df1)\n",
    "print(df1)"
   ],
   "outputs": [
    {
     "name": "stdout",
     "output_type": "stream",
     "text": [
      "                                              0\n",
      "расстояние_кат      путешествует_с_детьми      \n",
      "дальнее_путешествие да                     24.7\n",
      "                    нет                    75.3\n",
      "домашний_регион     да                     16.4\n",
      "                    нет                    83.6\n",
      "недалеко_отдома     да                     19.9\n",
      "                    нет                    80.1\n"
     ]
    }
   ],
   "execution_count": 8
  }
 ],
 "metadata": {
  "kernelspec": {
   "display_name": "Python 3",
   "language": "python",
   "name": "python3"
  },
  "language_info": {
   "codemirror_mode": {
    "name": "ipython",
    "version": 2
   },
   "file_extension": ".py",
   "mimetype": "text/x-python",
   "name": "python",
   "nbconvert_exporter": "python",
   "pygments_lexer": "ipython2",
   "version": "2.7.6"
  }
 },
 "nbformat": 4,
 "nbformat_minor": 5
}
