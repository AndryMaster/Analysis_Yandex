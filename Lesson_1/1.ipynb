{
 "cells": [
  {
   "cell_type": "code",
   "id": "initial_id",
   "metadata": {
    "collapsed": true,
    "ExecuteTime": {
     "end_time": "2025-02-04T11:33:00.749159Z",
     "start_time": "2025-02-04T11:33:00.737640Z"
    }
   },
   "source": [
    "import pandas as pd\n",
    "import numpy as np\n",
    "\n",
    "df = pd.read_csv('data.csv', sep=';', encoding='cp1251')\n",
    "df.replace(r'^\\s*$', np.nan, regex=True, inplace=True)\n",
    "df.dropna(axis=0, how='any', inplace=True)\n",
    "print(*df.shape)"
   ],
   "outputs": [
    {
     "name": "stdout",
     "output_type": "stream",
     "text": [
      "2999 12\n"
     ]
    }
   ],
   "execution_count": 18
  },
  {
   "metadata": {
    "ExecuteTime": {
     "end_time": "2025-02-04T11:23:00.215182Z",
     "start_time": "2025-02-04T11:23:00.208834Z"
    }
   },
   "cell_type": "code",
   "source": "df.info()",
   "id": "5d75546cdd954f05",
   "outputs": [
    {
     "name": "stdout",
     "output_type": "stream",
     "text": [
      "<class 'pandas.core.frame.DataFrame'>\n",
      "RangeIndex: 2999 entries, 0 to 2998\n",
      "Data columns (total 12 columns):\n",
      " #   Column                                        Non-Null Count  Dtype \n",
      "---  ------                                        --------------  ----- \n",
      " 0   Пол                                           2999 non-null   object\n",
      " 1   Возраст                                       2999 non-null   object\n",
      " 2   Путешествует с детьми                         2999 non-null   object\n",
      " 3   Расстояние                                    2999 non-null   int64 \n",
      " 4   Включён завтрак                               2999 non-null   int64 \n",
      " 5   Наличие wifi                                  2999 non-null   int64 \n",
      " 6   Оценка удобства добирания до места            2999 non-null   int64 \n",
      " 7   Оценка интерсности досуга                     2999 non-null   object\n",
      " 8   Оценка качества питания                       2999 non-null   object\n",
      " 9   Оценка качества wifi                          2999 non-null   object\n",
      " 10  Оценка комфортности палатки                   2999 non-null   object\n",
      " 11  Общая оценка качества предоставленной услуги  2999 non-null   object\n",
      "dtypes: int64(4), object(8)\n",
      "memory usage: 281.3+ KB\n"
     ]
    }
   ],
   "execution_count": 6
  },
  {
   "metadata": {
    "ExecuteTime": {
     "end_time": "2025-02-04T11:23:10.689238Z",
     "start_time": "2025-02-04T11:23:10.677242Z"
    }
   },
   "cell_type": "code",
   "source": "df.describe()",
   "id": "9417f9b2f99c3b7d",
   "outputs": [
    {
     "data": {
      "text/plain": [
       "        Расстояние  Включён завтрак  Наличие wifi  \\\n",
       "count  2999.000000      2999.000000   2999.000000   \n",
       "mean    836.372457         0.612204      0.525175   \n",
       "std     627.743694         0.487329      0.499449   \n",
       "min      68.000000         0.000000      0.000000   \n",
       "25%     400.000000         0.000000      0.000000   \n",
       "50%     663.000000         1.000000      1.000000   \n",
       "75%    1060.000000         1.000000      1.000000   \n",
       "max    4539.000000         1.000000      1.000000   \n",
       "\n",
       "       Оценка удобства добирания до места  \n",
       "count                         2999.000000  \n",
       "mean                             3.261754  \n",
       "std                              0.952425  \n",
       "min                              1.000000  \n",
       "25%                              3.000000  \n",
       "50%                              3.000000  \n",
       "75%                              4.000000  \n",
       "max                              5.000000  "
      ],
      "text/html": [
       "<div>\n",
       "<style scoped>\n",
       "    .dataframe tbody tr th:only-of-type {\n",
       "        vertical-align: middle;\n",
       "    }\n",
       "\n",
       "    .dataframe tbody tr th {\n",
       "        vertical-align: top;\n",
       "    }\n",
       "\n",
       "    .dataframe thead th {\n",
       "        text-align: right;\n",
       "    }\n",
       "</style>\n",
       "<table border=\"1\" class=\"dataframe\">\n",
       "  <thead>\n",
       "    <tr style=\"text-align: right;\">\n",
       "      <th></th>\n",
       "      <th>Расстояние</th>\n",
       "      <th>Включён завтрак</th>\n",
       "      <th>Наличие wifi</th>\n",
       "      <th>Оценка удобства добирания до места</th>\n",
       "    </tr>\n",
       "  </thead>\n",
       "  <tbody>\n",
       "    <tr>\n",
       "      <th>count</th>\n",
       "      <td>2999.000000</td>\n",
       "      <td>2999.000000</td>\n",
       "      <td>2999.000000</td>\n",
       "      <td>2999.000000</td>\n",
       "    </tr>\n",
       "    <tr>\n",
       "      <th>mean</th>\n",
       "      <td>836.372457</td>\n",
       "      <td>0.612204</td>\n",
       "      <td>0.525175</td>\n",
       "      <td>3.261754</td>\n",
       "    </tr>\n",
       "    <tr>\n",
       "      <th>std</th>\n",
       "      <td>627.743694</td>\n",
       "      <td>0.487329</td>\n",
       "      <td>0.499449</td>\n",
       "      <td>0.952425</td>\n",
       "    </tr>\n",
       "    <tr>\n",
       "      <th>min</th>\n",
       "      <td>68.000000</td>\n",
       "      <td>0.000000</td>\n",
       "      <td>0.000000</td>\n",
       "      <td>1.000000</td>\n",
       "    </tr>\n",
       "    <tr>\n",
       "      <th>25%</th>\n",
       "      <td>400.000000</td>\n",
       "      <td>0.000000</td>\n",
       "      <td>0.000000</td>\n",
       "      <td>3.000000</td>\n",
       "    </tr>\n",
       "    <tr>\n",
       "      <th>50%</th>\n",
       "      <td>663.000000</td>\n",
       "      <td>1.000000</td>\n",
       "      <td>1.000000</td>\n",
       "      <td>3.000000</td>\n",
       "    </tr>\n",
       "    <tr>\n",
       "      <th>75%</th>\n",
       "      <td>1060.000000</td>\n",
       "      <td>1.000000</td>\n",
       "      <td>1.000000</td>\n",
       "      <td>4.000000</td>\n",
       "    </tr>\n",
       "    <tr>\n",
       "      <th>max</th>\n",
       "      <td>4539.000000</td>\n",
       "      <td>1.000000</td>\n",
       "      <td>1.000000</td>\n",
       "      <td>5.000000</td>\n",
       "    </tr>\n",
       "  </tbody>\n",
       "</table>\n",
       "</div>"
      ]
     },
     "execution_count": 7,
     "metadata": {},
     "output_type": "execute_result"
    }
   ],
   "execution_count": 7
  }
 ],
 "metadata": {
  "kernelspec": {
   "display_name": "Python 3",
   "language": "python",
   "name": "python3"
  },
  "language_info": {
   "codemirror_mode": {
    "name": "ipython",
    "version": 2
   },
   "file_extension": ".py",
   "mimetype": "text/x-python",
   "name": "python",
   "nbconvert_exporter": "python",
   "pygments_lexer": "ipython2",
   "version": "2.7.6"
  }
 },
 "nbformat": 4,
 "nbformat_minor": 5
}
