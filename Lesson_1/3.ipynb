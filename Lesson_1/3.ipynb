{
 "cells": [
  {
   "cell_type": "code",
   "id": "initial_id",
   "metadata": {
    "collapsed": true,
    "ExecuteTime": {
     "end_time": "2025-02-04T12:05:18.383565Z",
     "start_time": "2025-02-04T12:05:18.369663Z"
    }
   },
   "source": [
    "import pandas as pd\n",
    "\n",
    "# df = pd.read_csv('data.csv', sep=';', skipinitialspace=True, encoding='cp1251')\n",
    "df = pd.read_csv('data_1.csv', sep=',', skipinitialspace=True, encoding='utf-8')\n",
    "\n",
    "# df.columns = df.columns.str.lower().str.replace(' ', '_')\n",
    "# df['возраст'] = df['возраст'].str.replace(',', '.')\n",
    "# df['возраст'] = df['возраст'].astype(float)\n",
    "\n",
    "print(df.head(10))\n",
    "\n",
    "df['возраст_кат'] = df['возраст'].apply(lambda x: 'менее_30' if x <= 30 else 'более_30')\n",
    "\n",
    "df = pd.DataFrame(round(df['возраст_кат'].value_counts(normalize=True) * 100, 0).astype('int64'))\n",
    "print(df)"
   ],
   "outputs": [
    {
     "name": "stdout",
     "output_type": "stream",
     "text": [
      "   пол  возраст путешествует_с_детьми  расстояние  включён_завтрак  \\\n",
      "0  муж     55.9                   нет         677                0   \n",
      "1  жен     37.4                   нет        2112                1   \n",
      "2  жен     48.3                    да        1241                1   \n",
      "3  муж     58.6                    да        1579                1   \n",
      "4  муж     34.3                   нет         469                0   \n",
      "5  муж     33.3                   нет         667                0   \n",
      "6  жен     45.2                   нет         865                1   \n",
      "7  жен     42.5                   нет        1242                0   \n",
      "8  жен     24.2                   нет        1079                1   \n",
      "9  муж     45.2                   нет         627                1   \n",
      "\n",
      "   наличие_wifi  оценка_удобства_добирания_до_места оценка_интерсности_досуга  \\\n",
      "0             1                                   2                     плохо   \n",
      "1             0                                   3                     плохо   \n",
      "2             1                                   3                 нормально   \n",
      "3             1                                   4                 нормально   \n",
      "4             1                                   4                 нормально   \n",
      "5             0                                   4                     плохо   \n",
      "6             1                                   4                    хорошо   \n",
      "7             1                                   4                 нормально   \n",
      "8             1                                   3                 нормально   \n",
      "9             0                                   2                     плохо   \n",
      "\n",
      "  оценка_качества_питания оценка_качества_wifi оценка_комфортности_палатки  \\\n",
      "0             отсутствует                плохо                       плохо   \n",
      "1                   плохо          отсутствует                      хорошо   \n",
      "2               нормально                плохо                       плохо   \n",
      "3                   плохо            нормально                      хорошо   \n",
      "4             отсутствует                плохо                   нормально   \n",
      "5             отсутствует          отсутствует                   нормально   \n",
      "6                   плохо               хорошо                   нормально   \n",
      "7             отсутствует                плохо                   нормально   \n",
      "8                   плохо                плохо                   нормально   \n",
      "9               нормально          отсутствует                   нормально   \n",
      "\n",
      "  общая_оценка_качества_предоставленной_услуги  \n",
      "0                                    нормально  \n",
      "1                                    нормально  \n",
      "2                                    нормально  \n",
      "3                                    нормально  \n",
      "4                                    нормально  \n",
      "5                                    нормально  \n",
      "6                                       хорошо  \n",
      "7                                    нормально  \n",
      "8                                    нормально  \n",
      "9                                    нормально  \n",
      "             proportion\n",
      "возраст_кат            \n",
      "более_30             76\n",
      "менее_30             24\n"
     ]
    }
   ],
   "execution_count": 10
  }
 ],
 "metadata": {
  "kernelspec": {
   "display_name": "Python 3",
   "language": "python",
   "name": "python3"
  },
  "language_info": {
   "codemirror_mode": {
    "name": "ipython",
    "version": 2
   },
   "file_extension": ".py",
   "mimetype": "text/x-python",
   "name": "python",
   "nbconvert_exporter": "python",
   "pygments_lexer": "ipython2",
   "version": "2.7.6"
  }
 },
 "nbformat": 4,
 "nbformat_minor": 5
}
