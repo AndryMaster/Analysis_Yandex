{
 "cells": [
  {
   "cell_type": "code",
   "id": "initial_id",
   "metadata": {
    "collapsed": true,
    "ExecuteTime": {
     "end_time": "2025-02-04T12:41:46.722776Z",
     "start_time": "2025-02-04T12:41:46.710576Z"
    }
   },
   "source": [
    "import pandas as pd\n",
    "\n",
    "\n",
    "# df = pd.read_csv('data.csv', sep=';', skipinitialspace=True, encoding='cp1251')\n",
    "df = pd.read_csv('data_1.csv', sep=',', skipinitialspace=True, encoding='utf-8')\n",
    "\n",
    "df = df.groupby(['путешествует_с_детьми', 'общая_оценка_качества_предоставленной_услуги']).size()\n",
    "df = df.groupby(level=0, group_keys=False).apply(lambda x: round(100 * x / float(x.sum()), 1))\n",
    "df = pd.DataFrame(df)\n",
    "\n",
    "print(df)"
   ],
   "outputs": [
    {
     "name": "stdout",
     "output_type": "stream",
     "text": [
      "                                                                       0\n",
      "путешествует_с_детьми общая_оценка_качества_предоставленной_услуги      \n",
      "да                    нормально                                     67.2\n",
      "                      плохо                                         14.7\n",
      "                      хорошо                                        18.0\n",
      "нет                   нормально                                     65.7\n",
      "                      плохо                                         13.4\n",
      "                      хорошо                                        21.0\n"
     ]
    }
   ],
   "execution_count": 70
  }
 ],
 "metadata": {
  "kernelspec": {
   "display_name": "Python 3",
   "language": "python",
   "name": "python3"
  },
  "language_info": {
   "codemirror_mode": {
    "name": "ipython",
    "version": 2
   },
   "file_extension": ".py",
   "mimetype": "text/x-python",
   "name": "python",
   "nbconvert_exporter": "python",
   "pygments_lexer": "ipython2",
   "version": "2.7.6"
  }
 },
 "nbformat": 4,
 "nbformat_minor": 5
}
