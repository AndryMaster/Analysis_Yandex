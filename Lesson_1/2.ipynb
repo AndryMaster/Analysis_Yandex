{
 "cells": [
  {
   "cell_type": "code",
   "id": "initial_id",
   "metadata": {
    "collapsed": true,
    "ExecuteTime": {
     "end_time": "2025-02-04T11:39:44.223598Z",
     "start_time": "2025-02-04T11:39:44.200089Z"
    }
   },
   "source": [
    "import pandas as pd\n",
    "\n",
    "\n",
    "df = pd.read_csv('data.csv', sep=',')\n",
    "\n",
    "df.columns = [col.lower().replace(' ', '_') for col in df.columns]\n",
    "\n",
    "df['возраст'] = df['возраст'].apply(lambda x: round(float(x.replace(',', '.'))))\n",
    "\n",
    "print(df.columns)\n",
    "print(df.head(10)[['возраст', 'путешествует_с_детьми']])"
   ],
   "outputs": [
    {
     "name": "stdout",
     "output_type": "stream",
     "text": [
      "2997 12\n",
      "Index(['пол', 'возраст', 'путешествует_с_детьми', 'расстояние',\n",
      "       'включён_завтрак', 'наличие_wifi', 'оценка_удобства_добирания_до_места',\n",
      "       'оценка_интерсности_досуга', 'оценка_качества_питания',\n",
      "       'оценка_качества_wifi', 'оценка_комфортности_палатки',\n",
      "       'общая_оценка_качества_предоставленной_услуги'],\n",
      "      dtype='object')\n",
      "   возраст путешествует_с_детьми\n",
      "0     55.9                   нет\n",
      "1     37.4                   нет\n",
      "2     48.3                    да\n",
      "3     58.6                    да\n",
      "4     34.3                   нет\n",
      "5     33.3                   нет\n",
      "6     45.2                   нет\n",
      "7     42.5                   нет\n",
      "8     24.2                   нет\n",
      "9     45.2                   нет\n"
     ]
    }
   ],
   "execution_count": 8
  }
 ],
 "metadata": {
  "kernelspec": {
   "display_name": "Python 3",
   "language": "python",
   "name": "python3"
  },
  "language_info": {
   "codemirror_mode": {
    "name": "ipython",
    "version": 2
   },
   "file_extension": ".py",
   "mimetype": "text/x-python",
   "name": "python",
   "nbconvert_exporter": "python",
   "pygments_lexer": "ipython2",
   "version": "2.7.6"
  }
 },
 "nbformat": 4,
 "nbformat_minor": 5
}
