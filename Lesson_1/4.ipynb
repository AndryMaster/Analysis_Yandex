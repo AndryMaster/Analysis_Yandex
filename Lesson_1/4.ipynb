{
 "cells": [
  {
   "cell_type": "code",
   "id": "initial_id",
   "metadata": {
    "collapsed": true,
    "ExecuteTime": {
     "end_time": "2025-02-04T12:06:40.675739Z",
     "start_time": "2025-02-04T12:06:40.218738Z"
    }
   },
   "source": [
    "import pandas as pd\n",
    "\n",
    "\n",
    "def f(dist):\n",
    "    if dist <= 300:\n",
    "        return 'домашний_регион'\n",
    "    elif dist <= 700:\n",
    "        return 'недалеко_отдома'\n",
    "    return 'дальнее_путешествие'\n",
    "\n",
    "\n",
    "# df = pd.read_csv('data.csv', sep=';', skipinitialspace=True, encoding='cp1251')\n",
    "df = pd.read_csv('data_1.csv', sep=',', skipinitialspace=True, encoding='utf-8')\n",
    "\n",
    "df['расстояние_кат'] = df['расстояние'].apply(lambda x: f(x))\n",
    "df = pd.DataFrame(round(df['расстояние_кат'].value_counts(normalize=True) * 100, 0).astype('int64'))\n",
    "print(df)"
   ],
   "outputs": [
    {
     "name": "stdout",
     "output_type": "stream",
     "text": [
      "                     proportion\n",
      "расстояние_кат                 \n",
      "дальнее_путешествие          47\n",
      "недалеко_отдома              37\n",
      "домашний_регион              16\n"
     ]
    }
   ],
   "execution_count": 1
  }
 ],
 "metadata": {
  "kernelspec": {
   "display_name": "Python 3",
   "language": "python",
   "name": "python3"
  },
  "language_info": {
   "codemirror_mode": {
    "name": "ipython",
    "version": 2
   },
   "file_extension": ".py",
   "mimetype": "text/x-python",
   "name": "python",
   "nbconvert_exporter": "python",
   "pygments_lexer": "ipython2",
   "version": "2.7.6"
  }
 },
 "nbformat": 4,
 "nbformat_minor": 5
}
