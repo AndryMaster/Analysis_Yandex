{
 "cells": [
  {
   "cell_type": "code",
   "id": "initial_id",
   "metadata": {
    "collapsed": true,
    "ExecuteTime": {
     "end_time": "2025-03-12T15:42:39.116138Z",
     "start_time": "2025-03-12T15:42:39.107905Z"
    }
   },
   "source": [
    "import pandas as pd\n",
    "import numpy as np\n",
    "\n",
    "\n",
    "def outliers(column: pd.Series, replace=np.nan):\n",
    "    Q1, Q3 = np.percentile(column, [25, 75])\n",
    "    IQR = Q3 - Q1\n",
    "    High = Q3 + 3 * IQR  # Low = Q1 - 3*(IQR)\n",
    "    return column.where(column.between(0, High), replace)\n",
    "\n",
    "\n",
    "df = pd.read_csv(\"data1.csv\", sep=';')\n",
    "\n",
    "median = df[df['день'] == 'воскресенье']['молоко'].median()\n",
    "df['молоко'] = outliers(df['молоко'], median)\n",
    "\n",
    "print(df.head(25))"
   ],
   "outputs": [
    {
     "name": "stdout",
     "output_type": "stream",
     "text": [
      "           день  молоко\n",
      "0   понедельник   105.0\n",
      "1       вторник   139.0\n",
      "2         среда   134.0\n",
      "3       четверг   130.0\n",
      "4       пятница   139.0\n",
      "5       суббота   131.0\n",
      "6   воскресенье   129.5\n",
      "7   понедельник   136.0\n",
      "8       вторник   125.0\n",
      "9         среда   130.0\n",
      "10      четверг   121.0\n",
      "11      пятница   138.0\n",
      "12      суббота   127.0\n",
      "13  воскресенье   112.0\n",
      "14  понедельник   146.0\n",
      "15      вторник   130.0\n",
      "16        среда   140.0\n",
      "17      четверг   141.0\n",
      "18      пятница   122.0\n",
      "19      суббота   139.0\n",
      "20  воскресенье   129.5\n",
      "21  понедельник   140.0\n",
      "22      вторник   131.0\n",
      "23        среда   123.0\n",
      "24      четверг   128.0\n"
     ]
    }
   ],
   "execution_count": 15
  },
  {
   "metadata": {
    "ExecuteTime": {
     "end_time": "2025-03-12T15:32:43.852853Z",
     "start_time": "2025-03-12T15:32:43.847854Z"
    }
   },
   "cell_type": "code",
   "source": [
    "a = df[df['день'] == 'воскресенье']\n",
    "\n",
    "print(a, a['молоко'].median())"
   ],
   "id": "b9d95e5d82e62e7",
   "outputs": [
    {
     "name": "stdout",
     "output_type": "stream",
     "text": [
      "           день  молоко\n",
      "6   воскресенье   10000\n",
      "13  воскресенье     112\n",
      "20  воскресенье   12600\n",
      "27  воскресенье     117\n",
      "34  воскресенье     131\n",
      "41  воскресенье     123\n",
      "48  воскресенье     129\n",
      "55  воскресенье     128\n",
      "62  воскресенье     130\n",
      "69  воскресенье     132\n",
      "76  воскресенье     137\n",
      "83  воскресенье     129\n",
      "90  воскресенье     127\n",
      "97  воскресенье     140 129.5\n"
     ]
    }
   ],
   "execution_count": 4
  }
 ],
 "metadata": {
  "kernelspec": {
   "display_name": "Python 3",
   "language": "python",
   "name": "python3"
  },
  "language_info": {
   "codemirror_mode": {
    "name": "ipython",
    "version": 2
   },
   "file_extension": ".py",
   "mimetype": "text/x-python",
   "name": "python",
   "nbconvert_exporter": "python",
   "pygments_lexer": "ipython2",
   "version": "2.7.6"
  }
 },
 "nbformat": 4,
 "nbformat_minor": 5
}
