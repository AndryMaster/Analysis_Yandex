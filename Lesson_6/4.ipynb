{
 "cells": [
  {
   "cell_type": "code",
   "id": "initial_id",
   "metadata": {
    "collapsed": true,
    "ExecuteTime": {
     "end_time": "2025-03-12T17:55:35.598673Z",
     "start_time": "2025-03-12T17:55:35.580108Z"
    }
   },
   "source": [
    "from scipy.stats import mannwhitneyu, ttest_ind, shapiro\n",
    "import pandas as pd\n",
    "import numpy as np\n",
    "\n",
    "\n",
    "def outliers(series: pd.Series, replace=np.nan):\n",
    "    Q1, Q3 = np.percentile(series, [25, 75])\n",
    "    IQR = Q3 - Q1\n",
    "    High = Q3 + 3 * IQR\n",
    "    return series.where(series.between(0, High), replace)\n",
    "\n",
    "\n",
    "df = pd.read_csv(\"data4.csv\", sep=';', decimal='.')\n",
    "df.columns = df.columns.str.lower().str.replace(' ', '_')\n",
    "# print(df.columns)\n",
    "\n",
    "df['выручка'] = (df.groupby(['покупательская_активность', 'тип_товара'])\n",
    "                 ['выручка'].transform(lambda x: x.fillna(x.median())))\n",
    "\n",
    "df['выручка'] = outliers(df['выручка'])\n",
    "\n",
    "df['выручка'] = (df.groupby(['покупательская_активность', 'тип_товара'])\n",
    "                 ['выручка'].transform(lambda x: x.fillna(x.median())))\n",
    "\n",
    "\n",
    "df_typed = df[df['тип_товара'] == 'товары для себя']\n",
    "group_1 = df_typed[df_typed[\"покупательская_активность\"] == \"Снизилась\"]\n",
    "group_2 = df_typed[df_typed[\"покупательская_активность\"] == \"Прежний уровень\"]\n",
    "\n",
    "result = [['показатель', 'р-уровень', 'метод расчёта р-уровня']]\n",
    "for col in df.columns[2:]:\n",
    "    g_1, g_2 = group_1[col], group_2[col]\n",
    "    if not (shapiro(g_1).pvalue >= 0.05 or shapiro(g_2).pvalue >= 0.05):\n",
    "        res = mannwhitneyu(g_1, g_2)\n",
    "        result.append([col, round(float(res.pvalue), 4), 'Манн-Уитни'])\n",
    "    else:\n",
    "        res = ttest_ind(g_1, g_2)\n",
    "        result.append([col, round(float(res.pvalue), 4), 'Стьюдент'])\n",
    "    # print(col, res)\n",
    "\n",
    "print(result)\n",
    "\n",
    "# ans = [['показатель', 'р-уровень', 'метод расчёта р-уровня'], ['история_продаж', 0.0042, 'Манн-Уитни'],\n",
    "#        ['неоплаченные_товары', 0.0, 'Манн-Уитни'], ['выручка', 0.0, 'Манн-Уитни']]\n",
    "# \n",
    "# res = [['показатель', 'р-уровень', 'метод расчёта р-уровня'], ['история_продаж', 0.0111, 'Манн-Уитни'],\n",
    "#        ['неоплаченные_товары', 0.0, 'Манн-Уитни'], ['выручка', 0.0056, 'Манн-Уитни']]"
   ],
   "outputs": [
    {
     "name": "stdout",
     "output_type": "stream",
     "text": [
      "['товары для себя']\n",
      "['товары для себя']\n",
      "[['показатель', 'р-уровень', 'метод расчёта р-уровня'], ['история_продаж', 0.0111, 'Манн-Уитни'], ['неоплаченные_товары', 0.0, 'Манн-Уитни'], ['выручка', 0.0056, 'Манн-Уитни']]\n"
     ]
    }
   ],
   "execution_count": 44
  }
 ],
 "metadata": {
  "kernelspec": {
   "display_name": "Python 3",
   "language": "python",
   "name": "python3"
  },
  "language_info": {
   "codemirror_mode": {
    "name": "ipython",
    "version": 2
   },
   "file_extension": ".py",
   "mimetype": "text/x-python",
   "name": "python",
   "nbconvert_exporter": "python",
   "pygments_lexer": "ipython2",
   "version": "2.7.6"
  }
 },
 "nbformat": 4,
 "nbformat_minor": 5
}
