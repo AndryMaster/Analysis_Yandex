{
 "cells": [
  {
   "cell_type": "code",
   "id": "initial_id",
   "metadata": {
    "collapsed": true,
    "ExecuteTime": {
     "end_time": "2025-03-12T16:13:45.678505Z",
     "start_time": "2025-03-12T16:13:45.264433Z"
    }
   },
   "source": [
    "import pandas as pd\n",
    "\n",
    "\n",
    "df = pd.read_csv(\"data2.csv\", sep=';')\n",
    "df['type'] = df['Brand'] + '-' + df['Model']\n",
    "\n",
    "for car_type in df['type'].unique():\n",
    "    sub_df = df[df['type'] == car_type]['VehicleType']\n",
    "    mode = sub_df.mode()\n",
    "    mode = 'unknown' if len(mode) == 0 else mode[0]\n",
    "    df.loc[sub_df.index] = df.loc[sub_df.index].fillna(mode)\n",
    "    # print(car_type, mode, sep='\\t')\n",
    "\n",
    "\n",
    "res = df[['Brand', 'VehicleType', 'Price']].groupby(['Brand', 'VehicleType']).median()\n",
    "res = res.sort_values('Price', ascending=False).reset_index()\n",
    "\n",
    "print(res.head(10))"
   ],
   "outputs": [
    {
     "name": "stdout",
     "output_type": "stream",
     "text": [
      "           Brand  VehicleType    Price\n",
      "0     volkswagen          suv  15600.0\n",
      "1            bmw          suv  14800.0\n",
      "2      chevrolet        wagon  13499.0\n",
      "3          skoda          suv  13200.0\n",
      "4  mercedes_benz  convertible  12790.0\n"
     ]
    }
   ],
   "execution_count": 36
  },
  {
   "metadata": {},
   "cell_type": "code",
   "outputs": [],
   "execution_count": null,
   "source": "",
   "id": "287c34bc32501b11"
  }
 ],
 "metadata": {
  "kernelspec": {
   "display_name": "Python 3",
   "language": "python",
   "name": "python3"
  },
  "language_info": {
   "codemirror_mode": {
    "name": "ipython",
    "version": 2
   },
   "file_extension": ".py",
   "mimetype": "text/x-python",
   "name": "python",
   "nbconvert_exporter": "python",
   "pygments_lexer": "ipython2",
   "version": "2.7.6"
  }
 },
 "nbformat": 4,
 "nbformat_minor": 5
}
