{
 "cells": [
  {
   "cell_type": "code",
   "id": "initial_id",
   "metadata": {
    "collapsed": true,
    "ExecuteTime": {
     "end_time": "2025-03-12T17:04:59.211238Z",
     "start_time": "2025-03-12T17:04:58.942220Z"
    }
   },
   "source": [
    "import pandas as pd\n",
    "\n",
    "\n",
    "df = pd.read_csv(\"data3.csv\", sep=';', decimal=',')\n",
    "df.columns = df.columns.str.lower().str.replace(' ', '_')\n",
    "df[df.columns[1]] = pd.to_numeric(df[df.columns[1]])\n",
    "\n",
    "# print(df.columns)\n",
    "# print(df.info())\n",
    "\n",
    "df[df.columns[1]] = df[df.columns[1]].ffill(limit=1)\n",
    "df[df.columns[2]] = df[df.columns[2]].interpolate(limit=1)\n",
    "    \n",
    "df[df.columns[-1]] = df.groupby(['key'], sort=False)[df.columns[-1]].transform(lambda x: x.fillna(x.median()))\n",
    "df = df.groupby('key').sum().round().reset_index()[df.columns[1:]]\n",
    "\n",
    "print(df.head(30))"
   ],
   "outputs": [
    {
     "name": "stdout",
     "output_type": "stream",
     "text": [
      "        вес  затрачиваемая_мощность\n",
      "0    9630.0                    39.0\n",
      "1    7938.0                    37.0\n",
      "2    9589.0                    41.0\n",
      "3    8089.0                    36.0\n",
      "4    7945.0                    33.0\n",
      "5    7920.0                    36.0\n",
      "6    7944.0                    35.0\n",
      "7    7983.0                    38.0\n",
      "8    9540.0                    45.0\n",
      "9   11090.0                    61.0\n",
      "10   9606.0                    39.0\n",
      "11   7976.0                    33.0\n",
      "12  11276.0                    52.0\n",
      "13  11161.0                    50.0\n",
      "14   9633.0                    44.0\n",
      "15   6387.0                    28.0\n",
      "16   9607.0                    45.0\n",
      "17   9572.0                    43.0\n",
      "18   6448.0                    29.0\n",
      "19   9572.0                    44.0\n",
      "20  11239.0                    50.0\n",
      "21  11093.0                    52.0\n",
      "22   9608.0                    41.0\n",
      "23  11062.0                    53.0\n",
      "24  11114.0                    49.0\n",
      "25   6389.0                    31.0\n",
      "26   7960.0                    37.0\n",
      "27   7998.0                    36.0\n",
      "28   8024.0                    37.0\n",
      "29   7881.0                    34.0\n"
     ]
    }
   ],
   "execution_count": 43
  },
  {
   "metadata": {},
   "cell_type": "code",
   "outputs": [],
   "execution_count": null,
   "source": [
    "        вес  затрачиваемая_мощность\n",
    "0    9630.0                    39.0\n",
    "1    7938.0                    37.0\n",
    "2    9589.0                    41.0\n",
    "3    8089.0                    36.0\n",
    "4    7945.0                    33.0\n",
    "5    7920.0                    36.0\n",
    "6    7944.0                    35.0\n",
    "7    7983.0                    38.0\n",
    "8    9540.0                    45.0\n",
    "9   11090.0                    61.0\n",
    "10   9606.0                    39.0\n",
    "11   7976.0                    33.0\n",
    "12  11276.0                    52.0\n",
    "13  11161.0                    50.0\n",
    "14   9633.0                    44.0\n",
    "15   6387.0                    28.0\n",
    "16   9607.0                    45.0\n",
    "17   9572.0                    43.0\n",
    "18   6448.0                    29.0\n",
    "19   9572.0                    44.0\n",
    "20  11239.0                    50.0\n",
    "21  11093.0                    52.0\n",
    "22   9608.0                    41.0\n",
    "23  11062.0                    53.0\n",
    "24  11114.0                    49.0\n",
    "25   6389.0                    31.0"
   ],
   "id": "72ec4ab44c46384c"
  }
 ],
 "metadata": {
  "kernelspec": {
   "display_name": "Python 3",
   "language": "python",
   "name": "python3"
  },
  "language_info": {
   "codemirror_mode": {
    "name": "ipython",
    "version": 2
   },
   "file_extension": ".py",
   "mimetype": "text/x-python",
   "name": "python",
   "nbconvert_exporter": "python",
   "pygments_lexer": "ipython2",
   "version": "2.7.6"
  }
 },
 "nbformat": 4,
 "nbformat_minor": 5
}
