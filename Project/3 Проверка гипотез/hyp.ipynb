{
 "cells": [
  {
   "attachments": {},
   "cell_type": "markdown",
   "metadata": {},
   "source": [
    "# Проверка гипотез\n",
    "\n",
    "* Влияет ли способ охлаждения на оценку комфорта?\n",
    "* Влияет ли пол на оценку комфорта?\n",
    "* Влияет ли возрастная группа на оценку комфорта?\n",
    "* Есть ли взаимосвязь между количеством рекламаций и оценкой комфорта?\n",
    "* Проверить гипотезу о том, что средняя оценка комфорта отличается в зависимости от страны\n",
    "* Дополнительно выдвинуть и проверить не менее 3 гипотез по влиянию разных факторов на оценку комфорта/ощущение температуры/ощущение движения воздуха.\n"
   ]
  },
  {
   "attachments": {},
   "cell_type": "markdown",
   "metadata": {},
   "source": [
    "## Импорт библиотек и подключение файла"
   ]
  },
  {
   "cell_type": "code",
   "execution_count": 645,
   "metadata": {},
   "outputs": [],
   "source": [
    "import pandas as pd\n",
    "import numpy as np\n",
    "from scipy.stats import shapiro, spearmanr, pearsonr, chi2_contingency, f_oneway, ttest_ind, kruskal\n",
    "import matplotlib.pyplot as plt\n",
    "import seaborn as sns"
   ]
  },
  {
   "cell_type": "code",
   "execution_count": 646,
   "metadata": {},
   "outputs": [
    {
     "data": {
      "text/html": [
       "<div>\n",
       "<style scoped>\n",
       "    .dataframe tbody tr th:only-of-type {\n",
       "        vertical-align: middle;\n",
       "    }\n",
       "\n",
       "    .dataframe tbody tr th {\n",
       "        vertical-align: top;\n",
       "    }\n",
       "\n",
       "    .dataframe thead th {\n",
       "        text-align: right;\n",
       "    }\n",
       "</style>\n",
       "<table border=\"1\" class=\"dataframe\">\n",
       "  <thead>\n",
       "    <tr style=\"text-align: right;\">\n",
       "      <th></th>\n",
       "      <th>год</th>\n",
       "      <th>время_года</th>\n",
       "      <th>климат</th>\n",
       "      <th>город</th>\n",
       "      <th>страна</th>\n",
       "      <th>способ_охлаждения</th>\n",
       "      <th>режим_при_смешанном_типе_охлаждения</th>\n",
       "      <th>способ_обогрева</th>\n",
       "      <th>возраст</th>\n",
       "      <th>пол</th>\n",
       "      <th>...</th>\n",
       "      <th>вентилятор</th>\n",
       "      <th>окно</th>\n",
       "      <th>двери</th>\n",
       "      <th>отопление</th>\n",
       "      <th>среднемесячная_температура_на_улице</th>\n",
       "      <th>количество_рекламаций</th>\n",
       "      <th>температура_удовлетворительная_%</th>\n",
       "      <th>количество_рекламаций_кат</th>\n",
       "      <th>возраст_кат</th>\n",
       "      <th>rh_кат</th>\n",
       "    </tr>\n",
       "  </thead>\n",
       "  <tbody>\n",
       "    <tr>\n",
       "      <th>336</th>\n",
       "      <td>2012</td>\n",
       "      <td>Весна</td>\n",
       "      <td>Тропическая влажная саванна</td>\n",
       "      <td>Ченнай</td>\n",
       "      <td>Индия</td>\n",
       "      <td>Смешанный</td>\n",
       "      <td>Кондиционирование</td>\n",
       "      <td>NaN</td>\n",
       "      <td>42.0</td>\n",
       "      <td>Мужской</td>\n",
       "      <td>...</td>\n",
       "      <td>0</td>\n",
       "      <td>-1</td>\n",
       "      <td>-1</td>\n",
       "      <td>0</td>\n",
       "      <td>30.4</td>\n",
       "      <td>0</td>\n",
       "      <td>57.24</td>\n",
       "      <td>мало</td>\n",
       "      <td>молодой возраст</td>\n",
       "      <td>норма</td>\n",
       "    </tr>\n",
       "  </tbody>\n",
       "</table>\n",
       "<p>1 rows × 34 columns</p>\n",
       "</div>"
      ],
      "text/plain": [
       "      год время_года                       климат   город страна  \\\n",
       "336  2012      Весна  Тропическая влажная саванна  Ченнай  Индия   \n",
       "\n",
       "    способ_охлаждения режим_при_смешанном_типе_охлаждения способ_обогрева  \\\n",
       "336         Смешанный                   Кондиционирование             NaN   \n",
       "\n",
       "     возраст      пол  ...  вентилятор  окно двери  отопление  \\\n",
       "336     42.0  Мужской  ...           0    -1    -1          0   \n",
       "\n",
       "    среднемесячная_температура_на_улице  количество_рекламаций  \\\n",
       "336                                30.4                      0   \n",
       "\n",
       "     температура_удовлетворительная_%  количество_рекламаций_кат  \\\n",
       "336                             57.24                       мало   \n",
       "\n",
       "         возраст_кат  rh_кат  \n",
       "336  молодой возраст   норма  \n",
       "\n",
       "[1 rows x 34 columns]"
      ]
     },
     "execution_count": 646,
     "metadata": {},
     "output_type": "execute_result"
    }
   ],
   "source": [
    "PATH_OUT = 'data_for_3rd_step.csv' \n",
    "df = pd.read_csv(PATH_OUT, sep=',',encoding='utf-8', skipinitialspace=True)\n",
    "df.drop(columns=['Unnamed: 0.1', 'Unnamed: 0'], inplace=True)\n",
    "df.sample()"
   ]
  },
  {
   "attachments": {},
   "cell_type": "markdown",
   "metadata": {},
   "source": [
    "## Проверка гипотез"
   ]
  },
  {
   "attachments": {},
   "cell_type": "markdown",
   "metadata": {},
   "source": [
    "### Очищаю датафрейм от Nan и 0-значений в столбце 'оценка_комфорта'"
   ]
  },
  {
   "cell_type": "code",
   "execution_count": 647,
   "metadata": {},
   "outputs": [
    {
     "data": {
      "text/plain": [
       "array([nan,  4.,  5.,  6.,  2.,  3.,  1.])"
      ]
     },
     "execution_count": 647,
     "metadata": {},
     "output_type": "execute_result"
    }
   ],
   "source": [
    "df.оценка_комфорта.unique() # оценок, равных 0 нет"
   ]
  },
  {
   "cell_type": "code",
   "execution_count": 648,
   "metadata": {},
   "outputs": [
    {
     "data": {
      "text/plain": [
       "array([4., 5., 6., 2., 3., 1.])"
      ]
     },
     "execution_count": 648,
     "metadata": {},
     "output_type": "execute_result"
    }
   ],
   "source": [
    "mask = (df['оценка_комфорта'].notna())\n",
    "filtered_df = df[mask]\n",
    "filtered_df['оценка_комфорта'].unique()"
   ]
  },
  {
   "attachments": {},
   "cell_type": "markdown",
   "metadata": {},
   "source": [
    "### Фун-я подсчета p-value для двух номинальных шкал"
   ]
  },
  {
   "cell_type": "code",
   "execution_count": 649,
   "metadata": {},
   "outputs": [],
   "source": [
    "def check_nominal_hyp(factor1, factor2):\n",
    "    contingency_table = pd.crosstab(factor1, factor2)\n",
    "    corr, p_value, *_ = chi2_contingency(contingency_table)\n",
    "    return f'static = {round(float(corr), 2)}, p_value = {p_value}'"
   ]
  },
  {
   "attachments": {},
   "cell_type": "markdown",
   "metadata": {},
   "source": [
    "### Влияет ли способ охлаждения на оценку комфорта?"
   ]
  },
  {
   "cell_type": "code",
   "execution_count": 650,
   "metadata": {},
   "outputs": [
    {
     "data": {
      "text/plain": [
       "'static = 11.18, p_value = 0.34345731727610374'"
      ]
     },
     "execution_count": 650,
     "metadata": {},
     "output_type": "execute_result"
    }
   ],
   "source": [
    "check_nominal_hyp(filtered_df['способ_охлаждения'], filtered_df['оценка_комфорта'])\n",
    "# не влияет?"
   ]
  },
  {
   "attachments": {},
   "cell_type": "markdown",
   "metadata": {},
   "source": [
    "### Влияет ли пол на оценку комфорта?"
   ]
  },
  {
   "cell_type": "code",
   "execution_count": 651,
   "metadata": {},
   "outputs": [
    {
     "data": {
      "text/plain": [
       "'static = 5.83, p_value = 0.32326396746879704'"
      ]
     },
     "execution_count": 651,
     "metadata": {},
     "output_type": "execute_result"
    }
   ],
   "source": [
    "check_nominal_hyp(filtered_df['пол'], filtered_df['оценка_комфорта'])\n",
    "# не влияет?"
   ]
  },
  {
   "attachments": {},
   "cell_type": "markdown",
   "metadata": {},
   "source": [
    "### Влияет ли возрастная группа на оценку комфорта?"
   ]
  },
  {
   "cell_type": "code",
   "execution_count": 652,
   "metadata": {},
   "outputs": [
    {
     "data": {
      "text/plain": [
       "'static = 23.28, p_value = 0.00976824926628505'"
      ]
     },
     "execution_count": 652,
     "metadata": {},
     "output_type": "execute_result"
    }
   ],
   "source": [
    "check_nominal_hyp(filtered_df['возраст_кат'],filtered_df['оценка_комфорта'])\n",
    "# влияет?"
   ]
  },
  {
   "attachments": {},
   "cell_type": "markdown",
   "metadata": {},
   "source": [
    "### Есть ли взаимосвязь между количеством рекламаций и оценкой комфорта?"
   ]
  },
  {
   "cell_type": "code",
   "execution_count": 653,
   "metadata": {},
   "outputs": [
    {
     "data": {
      "text/plain": [
       "np.False_"
      ]
     },
     "execution_count": 653,
     "metadata": {},
     "output_type": "execute_result"
    }
   ],
   "source": [
    "shapiro(filtered_df['количество_рекламаций'])[1] >= 0.05 \n",
    "# значит используем метод Краскел-Уоллиса\n",
    "\n",
    "\n",
    "# groups = filtered_df.groupby('страна')['оценка_комфорта'].apply(list)\n",
    "# groups"
   ]
  },
  {
   "cell_type": "code",
   "execution_count": 654,
   "metadata": {},
   "outputs": [
    {
     "data": {
      "text/plain": [
       "(np.float64(135.25691090051228), np.float64(1.8217531494387283e-27))"
      ]
     },
     "execution_count": 654,
     "metadata": {},
     "output_type": "execute_result"
    }
   ],
   "source": [
    "groups = [filtered_df[filtered_df['оценка_комфорта'] == i]['количество_рекламаций'] for i in range(1, 7)]\n",
    "stat, p_value = kruskal(*groups)\n",
    "stat, p_value #p-value очень мала!"
   ]
  },
  {
   "attachments": {},
   "cell_type": "markdown",
   "metadata": {},
   "source": [
    "#### А если использовать категориальную переменную количество_рекламаций_кат?"
   ]
  },
  {
   "cell_type": "code",
   "execution_count": 655,
   "metadata": {},
   "outputs": [
    {
     "data": {
      "text/plain": [
       "'static = 30.68, p_value = 0.0006633836863536924'"
      ]
     },
     "execution_count": 655,
     "metadata": {},
     "output_type": "execute_result"
    }
   ],
   "source": [
    "check_nominal_hyp(filtered_df['количество_рекламаций_кат'], filtered_df['оценка_комфорта']) #p-value очень мала!\n",
    "\n",
    "# Можем сделать вывод, что взаимосвязь все же есть"
   ]
  },
  {
   "attachments": {},
   "cell_type": "markdown",
   "metadata": {},
   "source": [
    "### Проверить гипотезу о том, что средняя оценка комфорта отличается в зависимости от страны\n"
   ]
  },
  {
   "cell_type": "code",
   "execution_count": 656,
   "metadata": {},
   "outputs": [
    {
     "data": {
      "text/plain": [
       "np.False_"
      ]
     },
     "execution_count": 656,
     "metadata": {},
     "output_type": "execute_result"
    }
   ],
   "source": [
    "shapiro(filtered_df['количество_рекламаций'])[1] >= 0.05 # значит используем метод Краскел-Уоллиса"
   ]
  },
  {
   "cell_type": "code",
   "execution_count": 657,
   "metadata": {},
   "outputs": [
    {
     "data": {
      "text/plain": [
       "(np.float64(26.92642469408704), np.float64(2.113494331444046e-07))"
      ]
     },
     "execution_count": 657,
     "metadata": {},
     "output_type": "execute_result"
    }
   ],
   "source": [
    "groups = [filtered_df[filtered_df['страна'] == i]['оценка_комфорта'] for i in ('США', 'Индия')]\n",
    "# groups = filtered_df.groupby('страна')['оценка_комфорта'].apply(list)\n",
    "stat, p_value = kruskal(*groups)\n",
    "stat, p_value"
   ]
  },
  {
   "attachments": {},
   "cell_type": "markdown",
   "metadata": {},
   "source": [
    "#### Боксплот в дополнение"
   ]
  },
  {
   "cell_type": "code",
   "execution_count": 658,
   "metadata": {},
   "outputs": [
    {
     "data": {
      "text/plain": [
       "<Axes: xlabel='страна', ylabel='оценка_комфорта'>"
      ]
     },
     "execution_count": 658,
     "metadata": {},
     "output_type": "execute_result"
    },
    {
     "data": {
      "image/png": "[encoded data removed]",
      "text/plain": [
       "<Figure size 640x480 with 1 Axes>"
      ]
     },
     "metadata": {},
     "output_type": "display_data"
    }
   ],
   "source": [
    "sns.boxplot(x='страна', y='оценка_комфорта', data=filtered_df)\n",
    "# можно сделать вывод, что отличия все же есть"
   ]
  },
  {
   "attachments": {},
   "cell_type": "markdown",
   "metadata": {},
   "source": [
    "### Дополнительные гипотезы. В работе"
   ]
  },
  {
   "cell_type": "code",
   "execution_count": null,
   "metadata": {},
   "outputs": [],
   "source": []
  },
  {
   "attachments": {},
   "cell_type": "markdown",
   "metadata": {},
   "source": [
    "### Функция для разных шкал"
   ]
  },
  {
   "cell_type": "code",
   "execution_count": 659,
   "metadata": {},
   "outputs": [],
   "source": [
    "def numeric_nominal_check_hyp(num_factor, nominal_factor, dataframe=df, after_zero=3):\n",
    "    nominal_vals = list(dataframe[nominal_factor].unique())\n",
    "\n",
    "    res_cols = list(map(lambda x: dataframe.loc[dataframe[nominal_factor] == x, num_factor], nominal_vals))\n",
    "\n",
    "\n",
    "    more_than_2_nominal_vals = len(nominal_vals) > 2\n",
    "    normal_distr = shapiro(dataframe[num_factor])[1] >= 0.05\n",
    "    \n",
    "    if normal_distr: \n",
    "        if more_than_2_nominal_vals:\n",
    "            method = \"ANOVA\"\n",
    "            result = f_oneway(*res_cols)\n",
    "        else:\n",
    "            method = \"T-критерий Стьдента\"\n",
    "            result = ttest_ind(*res_cols)\n",
    "    else:\n",
    "        if more_than_2_nominal_vals:\n",
    "            method = \"Краскел-Уоллес\"\n",
    "            result = kruskal(*res_cols)\n",
    "        else:\n",
    "            method = \"U-критерий Манна-Уитни\"\n",
    "            result = mannwhitneyu(*res_cols)\n",
    "\n",
    "    corr = float(np.round(result.statistic, after_zero))\n",
    "    pvalue = float(np.round(result.pvalue, after_zero))\n",
    "    return corr, pvalue, method\n",
    "    "
   ]
  }
 ],
 "metadata": {
  "kernelspec": {
   "display_name": "Python 3",
   "language": "python",
   "name": "python3"
  },
  "language_info": {
   "codemirror_mode": {
    "name": "ipython",
    "version": 3
   },
   "file_extension": ".py",
   "mimetype": "text/x-python",
   "name": "python",
   "nbconvert_exporter": "python",
   "pygments_lexer": "ipython3",
   "version": "3.13.2"
  },
  "orig_nbformat": 4,
  "vscode": {
   "interpreter": {
    "hash": "aee8b7b246df8f9039afb4144a1f6fd8d2ca17a180786b69acc140d282b71a49"
   }
  }
 },
 "nbformat": 4,
 "nbformat_minor": 2
}
