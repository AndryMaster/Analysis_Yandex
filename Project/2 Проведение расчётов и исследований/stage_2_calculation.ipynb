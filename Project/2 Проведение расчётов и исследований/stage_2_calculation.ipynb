{
 "cells": [
  {
   "attachments": {},
   "cell_type": "markdown",
   "metadata": {},
   "source": [
    "# Проведение расчётов и исследований\n",
    "\n",
    "\n",
    "* Создать дополнительный категориальный столбец, который покажет количество рекламаций по каждому клиенту отдельно: мало (≤1), средне (=2), много (>2).\n",
    "* Рассчитать средний возраст респондентов по полу и стране\n",
    "* Добавить категориальный столбец, разделив респондентов на три категории по возрасту: до 44 лет - молодой возраст, 45 - 59 лет - средний возраст, 60 лет и больше - пожилой возраст.\n",
    "* Рассчитать среднюю комфортную температуру в зависимости от возрастной категории\n",
    "* Рассчитать медианное значение температуры и влажности для каждого типа охлаждения"
   ]
  },
  {
   "attachments": {},
   "cell_type": "markdown",
   "metadata": {},
   "source": [
    "# Импорт необходимых библиотек и считывание файла"
   ]
  },
  {
   "cell_type": "code",
   "execution_count": 136,
   "metadata": {},
   "outputs": [],
   "source": [
    "import pandas as pd\n",
    "import numpy as np\n",
    "import scipy.stats as st\n",
    "from scipy.stats import spearmanr, pearsonr, shapiro, chi2_contingency, ttest_ind, mannwhitneyu\n",
    "# from phik.phik import phik_matrix\n",
    "import matplotlib.pyplot as plt\n",
    "import seaborn as sns\n"
   ]
  },
  {
   "cell_type": "code",
   "execution_count": 137,
   "metadata": {},
   "outputs": [
    {
     "data": {
      "text/html": [
       "<div>\n",
       "<style scoped>\n",
       "    .dataframe tbody tr th:only-of-type {\n",
       "        vertical-align: middle;\n",
       "    }\n",
       "\n",
       "    .dataframe tbody tr th {\n",
       "        vertical-align: top;\n",
       "    }\n",
       "\n",
       "    .dataframe thead th {\n",
       "        text-align: right;\n",
       "    }\n",
       "</style>\n",
       "<table border=\"1\" class=\"dataframe\">\n",
       "  <thead>\n",
       "    <tr style=\"text-align: right;\">\n",
       "      <th></th>\n",
       "      <th>год</th>\n",
       "      <th>время_года</th>\n",
       "      <th>климат</th>\n",
       "      <th>город</th>\n",
       "      <th>страна</th>\n",
       "      <th>способ_охлаждения</th>\n",
       "      <th>режим_при_смешанном_типе_охлаждения</th>\n",
       "      <th>способ_обогрева</th>\n",
       "      <th>возраст</th>\n",
       "      <th>пол</th>\n",
       "      <th>...</th>\n",
       "      <th>скорость_воздуха</th>\n",
       "      <th>рост</th>\n",
       "      <th>вес</th>\n",
       "      <th>занавески</th>\n",
       "      <th>вентилятор</th>\n",
       "      <th>окно</th>\n",
       "      <th>двери</th>\n",
       "      <th>отопление</th>\n",
       "      <th>среднемесячная_температура_на_улице</th>\n",
       "      <th>количество_рекламаций</th>\n",
       "    </tr>\n",
       "  </thead>\n",
       "  <tbody>\n",
       "    <tr>\n",
       "      <th>47</th>\n",
       "      <td>2011.0</td>\n",
       "      <td>Лето</td>\n",
       "      <td>Cубтропический океанический</td>\n",
       "      <td>Техас</td>\n",
       "      <td>США</td>\n",
       "      <td>Кондиционирование</td>\n",
       "      <td>NaN</td>\n",
       "      <td>NaN</td>\n",
       "      <td>40.0</td>\n",
       "      <td>NaN</td>\n",
       "      <td>...</td>\n",
       "      <td>0.06</td>\n",
       "      <td>NaN</td>\n",
       "      <td>NaN</td>\n",
       "      <td>0.0</td>\n",
       "      <td>0.0</td>\n",
       "      <td>NaN</td>\n",
       "      <td>NaN</td>\n",
       "      <td>NaN</td>\n",
       "      <td>28.9</td>\n",
       "      <td>0</td>\n",
       "    </tr>\n",
       "    <tr>\n",
       "      <th>378</th>\n",
       "      <td>2012.0</td>\n",
       "      <td>Зима</td>\n",
       "      <td>Влажный субтропический муссонный</td>\n",
       "      <td>Дели</td>\n",
       "      <td>Индия</td>\n",
       "      <td>Кондиционирование</td>\n",
       "      <td>NaN</td>\n",
       "      <td>NaN</td>\n",
       "      <td>35.0</td>\n",
       "      <td>Мужской</td>\n",
       "      <td>...</td>\n",
       "      <td>0.13</td>\n",
       "      <td>174.0</td>\n",
       "      <td>95.0</td>\n",
       "      <td>NaN</td>\n",
       "      <td>NaN</td>\n",
       "      <td>NaN</td>\n",
       "      <td>NaN</td>\n",
       "      <td>1.0</td>\n",
       "      <td>15.5</td>\n",
       "      <td>2</td>\n",
       "    </tr>\n",
       "    <tr>\n",
       "      <th>423</th>\n",
       "      <td>2012.0</td>\n",
       "      <td>Лето</td>\n",
       "      <td>Жаркий полузасушливый</td>\n",
       "      <td>Ахмедабад</td>\n",
       "      <td>Индия</td>\n",
       "      <td>Вентиляция</td>\n",
       "      <td>NaN</td>\n",
       "      <td>NaN</td>\n",
       "      <td>65.0</td>\n",
       "      <td>Мужской</td>\n",
       "      <td>...</td>\n",
       "      <td>1.43</td>\n",
       "      <td>157.5</td>\n",
       "      <td>45.0</td>\n",
       "      <td>NaN</td>\n",
       "      <td>1.0</td>\n",
       "      <td>1.0</td>\n",
       "      <td>NaN</td>\n",
       "      <td>NaN</td>\n",
       "      <td>29.5</td>\n",
       "      <td>0</td>\n",
       "    </tr>\n",
       "  </tbody>\n",
       "</table>\n",
       "<p>3 rows × 30 columns</p>\n",
       "</div>"
      ],
      "text/plain": [
       "        год время_года                            климат      город страна  \\\n",
       "47   2011.0       Лето       Cубтропический океанический      Техас    США   \n",
       "378  2012.0       Зима  Влажный субтропический муссонный       Дели  Индия   \n",
       "423  2012.0       Лето             Жаркий полузасушливый  Ахмедабад  Индия   \n",
       "\n",
       "     способ_охлаждения режим_при_смешанном_типе_охлаждения способ_обогрева  \\\n",
       "47   Кондиционирование                                 NaN             NaN   \n",
       "378  Кондиционирование                                 NaN             NaN   \n",
       "423         Вентиляция                                 NaN             NaN   \n",
       "\n",
       "     возраст      пол  ...  скорость_воздуха   рост   вес  занавески  \\\n",
       "47      40.0      NaN  ...              0.06    NaN   NaN        0.0   \n",
       "378     35.0  Мужской  ...              0.13  174.0  95.0        NaN   \n",
       "423     65.0  Мужской  ...              1.43  157.5  45.0        NaN   \n",
       "\n",
       "    вентилятор  окно  двери  отопление  среднемесячная_температура_на_улице  \\\n",
       "47         0.0   NaN    NaN        NaN                                 28.9   \n",
       "378        NaN   NaN    NaN        1.0                                 15.5   \n",
       "423        1.0   1.0    NaN        NaN                                 29.5   \n",
       "\n",
       "     количество_рекламаций  \n",
       "47                       0  \n",
       "378                      2  \n",
       "423                      0  \n",
       "\n",
       "[3 rows x 30 columns]"
      ]
     },
     "execution_count": 137,
     "metadata": {},
     "output_type": "execute_result"
    }
   ],
   "source": [
    "PATH_OUT = 'stage2.csv' \n",
    "df = pd.read_csv(PATH_OUT, sep=';',encoding='utf-8', skipinitialspace=True)\n",
    "df.sample(3)\n"
   ]
  },
  {
   "attachments": {},
   "cell_type": "markdown",
   "metadata": {},
   "source": [
    "# Проведение расчетов и исследований"
   ]
  },
  {
   "attachments": {},
   "cell_type": "markdown",
   "metadata": {},
   "source": [
    "## Создание кат столбца по кол-ву рекламаций"
   ]
  },
  {
   "cell_type": "code",
   "execution_count": 138,
   "metadata": {},
   "outputs": [],
   "source": [
    "def claim(x):\n",
    "    if x <= 1: \n",
    "        return 'мало' \n",
    "    elif x == 2: \n",
    "        return 'средне' \n",
    "    else: \n",
    "        return 'много'"
   ]
  },
  {
   "cell_type": "code",
   "execution_count": 139,
   "metadata": {},
   "outputs": [],
   "source": [
    "df['количество_рекламаций_кат'] = df['количество_рекламаций'].apply(claim)"
   ]
  },
  {
   "attachments": {},
   "cell_type": "markdown",
   "metadata": {},
   "source": [
    "## Средний возраст по полу и стране + возраст_кат"
   ]
  },
  {
   "cell_type": "code",
   "execution_count": 140,
   "metadata": {},
   "outputs": [
    {
     "data": {
      "image/png": "[encoded data removed]",
      "text/plain": [
       "<Figure size 1500x500 with 2 Axes>"
      ]
     },
     "metadata": {},
     "output_type": "display_data"
    }
   ],
   "source": [
    "grouped_data = df.groupby(['страна', 'пол']).size()\n",
    "\n",
    "fig, axs = plt.subplots(1, 2, figsize=(15, 5))\n",
    "\n",
    "axs[0].pie(grouped_data['Австралия'],\n",
    "           labels=grouped_data['Австралия'].index, autopct='%1.1f%%')\n",
    "axs[0].set_title('Распределение по полу в Австралии')\n",
    "\n",
    "\n",
    "axs[1].pie(grouped_data['Индия'],\n",
    "           labels=grouped_data['Индия'].index, autopct='%1.1f%%')\n",
    "axs[1].set_title('Распределение по полу в Индии')\n",
    "\n",
    "\n",
    "plt.show()"
   ]
  },
  {
   "cell_type": "code",
   "execution_count": 141,
   "metadata": {},
   "outputs": [
    {
     "data": {
      "text/plain": [
       "страна     пол    \n",
       "Австралия  Женский    46.348315\n",
       "           Мужской    42.614679\n",
       "Индия      Женский    36.590909\n",
       "           Мужской    38.298969\n",
       "Name: возраст, dtype: float64"
      ]
     },
     "execution_count": 141,
     "metadata": {},
     "output_type": "execute_result"
    }
   ],
   "source": [
    "df.groupby(['страна', 'пол'])['возраст'].mean()"
   ]
  },
  {
   "cell_type": "code",
   "execution_count": 142,
   "metadata": {},
   "outputs": [],
   "source": [
    "def age_cat(x):\n",
    "    if x <= 44: \n",
    "        return 'молодой возраст'\n",
    "    elif 45 <= x <= 59: \n",
    "        return 'средний возраст' \n",
    "    else: \n",
    "        return 'пожилой возраст'\n",
    "\n",
    "df['возраст_кат'] = df['возраст'].apply(age_cat)"
   ]
  },
  {
   "attachments": {},
   "cell_type": "markdown",
   "metadata": {},
   "source": [
    "## Рассчитать ср.комф температуру по возрастным группам"
   ]
  },
  {
   "cell_type": "code",
   "execution_count": 143,
   "metadata": {},
   "outputs": [
    {
     "data": {
      "text/plain": [
       "возраст_кат      предпочтительное_изменение_температуры\n",
       "молодой возраст  Без изменений                             24.267717\n",
       "                 Теплее                                    25.020000\n",
       "                 Холоднее                                  24.828000\n",
       "пожилой возраст  Без изменений                             26.480000\n",
       "                 Теплее                                    26.653846\n",
       "                 Холоднее                                  27.461765\n",
       "средний возраст  Без изменений                             23.948718\n",
       "                 Теплее                                    24.688889\n",
       "                 Холоднее                                  24.215000\n",
       "Name: температура_воздуха_в_помещении, dtype: float64"
      ]
     },
     "execution_count": 143,
     "metadata": {},
     "output_type": "execute_result"
    }
   ],
   "source": [
    "df.groupby(['возраст_кат', 'предпочтительное_изменение_температуры'])['температура_воздуха_в_помещении'].mean()"
   ]
  },
  {
   "cell_type": "code",
   "execution_count": 144,
   "metadata": {},
   "outputs": [
    {
     "data": {
      "text/html": [
       "<div>\n",
       "<style scoped>\n",
       "    .dataframe tbody tr th:only-of-type {\n",
       "        vertical-align: middle;\n",
       "    }\n",
       "\n",
       "    .dataframe tbody tr th {\n",
       "        vertical-align: top;\n",
       "    }\n",
       "\n",
       "    .dataframe thead th {\n",
       "        text-align: right;\n",
       "    }\n",
       "</style>\n",
       "<table border=\"1\" class=\"dataframe\">\n",
       "  <thead>\n",
       "    <tr style=\"text-align: right;\">\n",
       "      <th></th>\n",
       "      <th>возраст_кат</th>\n",
       "      <th>предпочтительное_изменение_температуры</th>\n",
       "      <th>температура_воздуха_в_помещении</th>\n",
       "    </tr>\n",
       "  </thead>\n",
       "  <tbody>\n",
       "    <tr>\n",
       "      <th>0</th>\n",
       "      <td>молодой возраст</td>\n",
       "      <td>Без изменений</td>\n",
       "      <td>24.267717</td>\n",
       "    </tr>\n",
       "    <tr>\n",
       "      <th>3</th>\n",
       "      <td>пожилой возраст</td>\n",
       "      <td>Без изменений</td>\n",
       "      <td>26.480000</td>\n",
       "    </tr>\n",
       "    <tr>\n",
       "      <th>6</th>\n",
       "      <td>средний возраст</td>\n",
       "      <td>Без изменений</td>\n",
       "      <td>23.948718</td>\n",
       "    </tr>\n",
       "  </tbody>\n",
       "</table>\n",
       "</div>"
      ],
      "text/plain": [
       "       возраст_кат предпочтительное_изменение_температуры  \\\n",
       "0  молодой возраст                          Без изменений   \n",
       "3  пожилой возраст                          Без изменений   \n",
       "6  средний возраст                          Без изменений   \n",
       "\n",
       "   температура_воздуха_в_помещении  \n",
       "0                        24.267717  \n",
       "3                        26.480000  \n",
       "6                        23.948718  "
      ]
     },
     "execution_count": 144,
     "metadata": {},
     "output_type": "execute_result"
    }
   ],
   "source": [
    "res = df.groupby(['возраст_кат', 'предпочтительное_изменение_температуры'])['температура_воздуха_в_помещении'].mean().reset_index()\n",
    "res[res['предпочтительное_изменение_температуры'] == 'Без изменений']"
   ]
  },
  {
   "attachments": {},
   "cell_type": "markdown",
   "metadata": {},
   "source": [
    "## Рассчитать медианное знач. темп и влажности для каждого типа охлаждения"
   ]
  },
  {
   "cell_type": "code",
   "execution_count": 145,
   "metadata": {},
   "outputs": [
    {
     "data": {
      "text/html": [
       "<div>\n",
       "<style scoped>\n",
       "    .dataframe tbody tr th:only-of-type {\n",
       "        vertical-align: middle;\n",
       "    }\n",
       "\n",
       "    .dataframe tbody tr th {\n",
       "        vertical-align: top;\n",
       "    }\n",
       "\n",
       "    .dataframe thead th {\n",
       "        text-align: right;\n",
       "    }\n",
       "</style>\n",
       "<table border=\"1\" class=\"dataframe\">\n",
       "  <thead>\n",
       "    <tr style=\"text-align: right;\">\n",
       "      <th></th>\n",
       "      <th>температура_воздуха_в_помещении</th>\n",
       "      <th>rh</th>\n",
       "    </tr>\n",
       "    <tr>\n",
       "      <th>способ_охлаждения</th>\n",
       "      <th></th>\n",
       "      <th></th>\n",
       "    </tr>\n",
       "  </thead>\n",
       "  <tbody>\n",
       "    <tr>\n",
       "      <th>Вентиляция</th>\n",
       "      <td>25.2</td>\n",
       "      <td>46.00</td>\n",
       "    </tr>\n",
       "    <tr>\n",
       "      <th>Кондиционирование</th>\n",
       "      <td>24.3</td>\n",
       "      <td>42.45</td>\n",
       "    </tr>\n",
       "    <tr>\n",
       "      <th>Смешанный</th>\n",
       "      <td>24.6</td>\n",
       "      <td>56.40</td>\n",
       "    </tr>\n",
       "  </tbody>\n",
       "</table>\n",
       "</div>"
      ],
      "text/plain": [
       "                   температура_воздуха_в_помещении     rh\n",
       "способ_охлаждения                                        \n",
       "Вентиляция                                    25.2  46.00\n",
       "Кондиционирование                             24.3  42.45\n",
       "Смешанный                                     24.6  56.40"
      ]
     },
     "execution_count": 145,
     "metadata": {},
     "output_type": "execute_result"
    }
   ],
   "source": [
    "df.groupby('способ_охлаждения')[['температура_воздуха_в_помещении', 'rh']].median()"
   ]
  },
  {
   "attachments": {},
   "cell_type": "markdown",
   "metadata": {},
   "source": [
    "# Графики"
   ]
  },
  {
   "cell_type": "code",
   "execution_count": 150,
   "metadata": {},
   "outputs": [
    {
     "data": {
      "image/png": "[encoded data removed]",
      "text/plain": [
       "<Figure size 1000x600 with 1 Axes>"
      ]
     },
     "metadata": {},
     "output_type": "display_data"
    }
   ],
   "source": [
    "def graphs_visualization(df, col1, col2): \n",
    "    col1_type = df[col1].dtype # определяю тип колонки\n",
    "    col2_type = df[col2].dtype # определяю тип колонки\n",
    "\n",
    "    if col1_type == col2_type and col1_type != 'object': # здесь идет сравнение: если типы колонок равны и не являются обжектом, то строим диаграмму рассеяния\n",
    "        plt.figure(figsize=(10, 6))\n",
    "        plt.scatter(df[col1], df[col2], alpha=0.6)\n",
    "        plt.xlabel(col1)\n",
    "        plt.ylabel(col2)\n",
    "        plt.grid()\n",
    "        plt.show()\n",
    "    elif col1_type == 'object': \n",
    "        if col2_type != 'object': \n",
    "            plt.figure(figsize=(10, 6))\n",
    "            sns.boxplot(x=col1, y=col2, data=df)\n",
    "            plt.show()\n",
    "        else:\n",
    "            pass # пока здесь стоит заглушка, не понятно, каким образом нарисовать информативную круговую диаграмму\n",
    "\n",
    "            # fig, axs = plt.subplots(1, 2, figsize=(15, 5))\n",
    "            # counts1 = df.groupby(col1)[col2].value_counts()\n",
    "            # counts2 = df[col2].value_counts()\n",
    "            # axs[0].pie(counts1, labels=counts1)\n",
    "            # axs[1].pie(counts2, labels=counts2.index)\n",
    "    elif col2_type == 'object':\n",
    "        plt.figure(figsize=(10, 6))\n",
    "        sns.boxplot(x=col2, y=col1, data=df)\n",
    "        plt.show()\n",
    "\n",
    "\n",
    "\n",
    "graphs_visualization(df, 'rh', 'страна')"
   ]
  },
  {
   "cell_type": "code",
   "execution_count": null,
   "metadata": {},
   "outputs": [],
   "source": []
  }
 ],
 "metadata": {
  "kernelspec": {
   "display_name": "Python 3",
   "language": "python",
   "name": "python3"
  },
  "language_info": {
   "codemirror_mode": {
    "name": "ipython",
    "version": 3
   },
   "file_extension": ".py",
   "mimetype": "text/x-python",
   "name": "python",
   "nbconvert_exporter": "python",
   "pygments_lexer": "ipython3",
   "version": "3.13.2"
  },
  "orig_nbformat": 4,
  "vscode": {
   "interpreter": {
    "hash": "aee8b7b246df8f9039afb4144a1f6fd8d2ca17a180786b69acc140d282b71a49"
   }
  }
 },
 "nbformat": 4,
 "nbformat_minor": 2
}
