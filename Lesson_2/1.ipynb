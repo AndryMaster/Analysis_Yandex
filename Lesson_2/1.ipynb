{
 "cells": [
  {
   "cell_type": "code",
   "id": "initial_id",
   "metadata": {
    "collapsed": true,
    "ExecuteTime": {
     "end_time": "2025-02-11T13:42:53.301914Z",
     "start_time": "2025-02-11T13:42:53.287471Z"
    }
   },
   "source": [
    "import pandas as pd\n",
    "\n",
    "\n",
    "def pep8_columns(dataframe: pd.DataFrame) -> pd.DataFrame:\n",
    "    dataframe.columns = [col.lower().replace(' ', '_') for col in dataframe.columns]\n",
    "    return dataframe\n",
    "\n",
    "\n",
    "df = pd.read_csv('data.csv', sep=',')  # encoding='' utf-8 cp1251\n",
    "df = pep8_columns(df)\n",
    "print(df.describe(include='object').transpose())\n",
    "#                           count unique               top freq\n",
    "# покупательская_активность  1300      2   Прежний уровень  900\n",
    "# тип_сервиса                1300      2          стандарт  916\n",
    "# разрешить_сообщать         1300      2                да  967\n",
    "# популярная_категория       1300      6  Товары для детей  267\n",
    "\n",
    "print(df.columns)\n",
    "print(df.info())"
   ],
   "outputs": [
    {
     "name": "stdout",
     "output_type": "stream",
     "text": [
      "                          count unique               top freq\n",
      "покупательская_активность  1300      2   Прежний уровень  900\n",
      "тип_сервиса                1300      2          стандарт  916\n",
      "разрешить_сообщать         1300      2                да  967\n",
      "популярная_категория       1300      6  Товары для детей  267\n",
      "Index(['покупательская_активность', 'тип_сервиса', 'разрешить_сообщать',\n",
      "       'маркет_актив_6_мес', 'длительность', 'акционные_покупки',\n",
      "       'популярная_категория', 'средний_просмотр_категорий_за_визит',\n",
      "       'выручка_от_клиента_текущий_месяц',\n",
      "       'разность_выручки_тек_прошлый_месяц', 'ошибка_сервиса',\n",
      "       'страниц_за_визит', 'всего_минут_текущем_месяце',\n",
      "       'всего_минут_предыдущий_месяц'],\n",
      "      dtype='object')\n",
      "<class 'pandas.core.frame.DataFrame'>\n",
      "RangeIndex: 1300 entries, 0 to 1299\n",
      "Data columns (total 14 columns):\n",
      " #   Column                               Non-Null Count  Dtype  \n",
      "---  ------                               --------------  -----  \n",
      " 0   покупательская_активность            1300 non-null   object \n",
      " 1   тип_сервиса                          1300 non-null   object \n",
      " 2   разрешить_сообщать                   1300 non-null   object \n",
      " 3   маркет_актив_6_мес                   1300 non-null   int64  \n",
      " 4   длительность                         1300 non-null   int64  \n",
      " 5   акционные_покупки                    1300 non-null   float64\n",
      " 6   популярная_категория                 1300 non-null   object \n",
      " 7   средний_просмотр_категорий_за_визит  1300 non-null   int64  \n",
      " 8   выручка_от_клиента_текущий_месяц     1300 non-null   int64  \n",
      " 9   разность_выручки_тек_прошлый_месяц   1300 non-null   int64  \n",
      " 10  ошибка_сервиса                       1300 non-null   int64  \n",
      " 11  страниц_за_визит                     1300 non-null   int64  \n",
      " 12  всего_минут_текущем_месяце           1300 non-null   int64  \n",
      " 13  всего_минут_предыдущий_месяц         1300 non-null   int64  \n",
      "dtypes: float64(1), int64(9), object(4)\n",
      "memory usage: 142.3+ KB\n",
      "None\n"
     ]
    }
   ],
   "execution_count": 6
  }
 ],
 "metadata": {
  "kernelspec": {
   "display_name": "Python 3",
   "language": "python",
   "name": "python3"
  },
  "language_info": {
   "codemirror_mode": {
    "name": "ipython",
    "version": 2
   },
   "file_extension": ".py",
   "mimetype": "text/x-python",
   "name": "python",
   "nbconvert_exporter": "python",
   "pygments_lexer": "ipython2",
   "version": "2.7.6"
  }
 },
 "nbformat": 4,
 "nbformat_minor": 5
}
