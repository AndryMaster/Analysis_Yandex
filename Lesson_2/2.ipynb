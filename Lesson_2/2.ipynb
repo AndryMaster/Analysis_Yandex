{
 "cells": [
  {
   "cell_type": "code",
   "id": "initial_id",
   "metadata": {
    "collapsed": true,
    "ExecuteTime": {
     "end_time": "2025-02-11T14:11:02.670082Z",
     "start_time": "2025-02-11T14:11:02.658551Z"
    }
   },
   "source": [
    "import pandas as pd\n",
    "\n",
    "\n",
    "def pep8_columns(dataframe: pd.DataFrame) -> pd.DataFrame:\n",
    "    dataframe.columns = [col.lower().replace(' ', '_') for col in dataframe.columns]\n",
    "    return dataframe\n",
    "\n",
    "\n",
    "df = pep8_columns(pd.read_csv('data.csv', sep=','))  # encoding='' utf-8 cp1251\n",
    "print(df.groupby('покупательская_активность')['разность_выручки_тек_прошлый_месяц'].describe().astype(int))\n",
    "\n",
    "#                            count  mean  std   min  25%  50%  75%  max\n",
    "# покупательская_активность                                            \n",
    "# Прежний уровень              900  -111  360 -1013 -377 -107  151  698\n",
    "# Снизилась                    400  -497  321 -1378 -726 -503 -272  265"
   ],
   "outputs": [
    {
     "name": "stdout",
     "output_type": "stream",
     "text": [
      "                           count  mean  std   min  25%  50%  75%  max\n",
      "покупательская_активность                                            \n",
      "Прежний уровень              900  -111  360 -1013 -377 -107  151  698\n",
      "Снизилась                    400  -497  321 -1378 -726 -503 -272  265\n"
     ]
    }
   ],
   "execution_count": 20
  }
 ],
 "metadata": {
  "kernelspec": {
   "display_name": "Python 3",
   "language": "python",
   "name": "python3"
  },
  "language_info": {
   "codemirror_mode": {
    "name": "ipython",
    "version": 2
   },
   "file_extension": ".py",
   "mimetype": "text/x-python",
   "name": "python",
   "nbconvert_exporter": "python",
   "pygments_lexer": "ipython2",
   "version": "2.7.6"
  }
 },
 "nbformat": 4,
 "nbformat_minor": 5
}
