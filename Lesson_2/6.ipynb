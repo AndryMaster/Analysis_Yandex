{
 "cells": [
  {
   "cell_type": "code",
   "id": "initial_id",
   "metadata": {
    "collapsed": true,
    "ExecuteTime": {
     "end_time": "2025-02-11T14:25:48.942886Z",
     "start_time": "2025-02-11T14:25:48.496538Z"
    }
   },
   "source": [
    "import pandas as pd\n",
    "\n",
    "\n",
    "def pep8_columns(dataframe: pd.DataFrame) -> pd.DataFrame:\n",
    "    dataframe.columns = [col.lower().replace(' ', '_') for col in dataframe.columns]\n",
    "    return dataframe\n",
    "\n",
    "\n",
    "def new_category(value: str) -> str:\n",
    "    if value in ['Товары для детей']:\n",
    "        return 'покупки для детей'\n",
    "    if value in ['Домашний текстиль', 'Кухонная посуда', 'Мелкая бытовая техника и электроника']:\n",
    "        return 'покупки для быта'\n",
    "    if value in ['Косметика и аксессуары', 'Техника для красоты и здоровья']:\n",
    "        return 'покупки для себя'\n",
    "    return 'Null'\n",
    "\n",
    "\n",
    "df = pep8_columns(pd.read_csv('data.csv', sep=','))  # encoding='' utf-8 cp1251\n",
    "\n",
    "df['категории_товаров'] = df['популярная_категория'].apply(new_category)\n",
    "df.where(df['категории_товаров'] == 'покупки для быта', inplace=True)\n",
    "\n",
    "print(df.groupby('покупательская_активность')['разность_выручки_тек_прошлый_месяц'].describe().astype(int))"
   ],
   "outputs": [
    {
     "name": "stdout",
     "output_type": "stream",
     "text": [
      "                           count  mean  std   min  25%  50%  75%  max\n",
      "покупательская_активность                                            \n",
      "Прежний уровень              413   -97  356 -1000 -356 -104  151  684\n",
      "Снизилась                    212  -492  328 -1378 -724 -485 -261  265\n"
     ]
    }
   ],
   "execution_count": 1
  }
 ],
 "metadata": {
  "kernelspec": {
   "display_name": "Python 3",
   "language": "python",
   "name": "python3"
  },
  "language_info": {
   "codemirror_mode": {
    "name": "ipython",
    "version": 2
   },
   "file_extension": ".py",
   "mimetype": "text/x-python",
   "name": "python",
   "nbconvert_exporter": "python",
   "pygments_lexer": "ipython2",
   "version": "2.7.6"
  }
 },
 "nbformat": 4,
 "nbformat_minor": 5
}
