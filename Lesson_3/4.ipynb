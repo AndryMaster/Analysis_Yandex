{
 "cells": [
  {
   "cell_type": "code",
   "id": "initial_id",
   "metadata": {
    "collapsed": true,
    "ExecuteTime": {
     "end_time": "2025-02-19T14:05:30.454922Z",
     "start_time": "2025-02-19T14:05:30.426431Z"
    }
   },
   "source": [
    "import pandas as pd\n",
    "import numpy as np\n",
    "\n",
    "\n",
    "def pep8_columns(dataframe: pd.DataFrame) -> pd.DataFrame:\n",
    "    dataframe.columns = [col.lower().replace(' ', '_') for col in dataframe.columns]\n",
    "    return dataframe\n",
    "\n",
    "\n",
    "def correlation_ratio(categories, values):\n",
    "    categories, values = np.array(categories), np.array(values)\n",
    "    \n",
    "    ssw = 0\n",
    "    ssb = 0\n",
    "    for category in set(categories):\n",
    "        subgroup = values[np.where(categories == category)[0]]\n",
    "        ssw += sum((subgroup - np.mean(subgroup)) ** 2)\n",
    "        ssb += len(subgroup) * (np.mean(subgroup) - np.mean(values)) ** 2\n",
    "\n",
    "    return (ssb / (ssb + ssw)) ** .5\n",
    "\n",
    "\n",
    "df = pd.read_csv('data_1.csv', sep=',', encoding='cp1251')  # encoding='' utf-8 cp1251\n",
    "df = pep8_columns(df)\n",
    "df = df[(df['номер_конвейера'] == 1) & (df['номер_смены'] == 2)]\n",
    "\n",
    "print(correlation_ratio(df['брак'], df['вес']).round(4))\n"
   ],
   "outputs": [
    {
     "name": "stdout",
     "output_type": "stream",
     "text": [
      "0.0509\n"
     ]
    }
   ],
   "execution_count": 1
  }
 ],
 "metadata": {
  "kernelspec": {
   "display_name": "Python 3",
   "language": "python",
   "name": "python3"
  },
  "language_info": {
   "codemirror_mode": {
    "name": "ipython",
    "version": 2
   },
   "file_extension": ".py",
   "mimetype": "text/x-python",
   "name": "python",
   "nbconvert_exporter": "python",
   "pygments_lexer": "ipython2",
   "version": "2.7.6"
  }
 },
 "nbformat": 4,
 "nbformat_minor": 5
}
