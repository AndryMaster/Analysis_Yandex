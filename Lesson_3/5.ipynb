{
 "cells": [
  {
   "cell_type": "code",
   "id": "initial_id",
   "metadata": {
    "collapsed": true,
    "ExecuteTime": {
     "end_time": "2025-02-19T13:07:07.468044Z",
     "start_time": "2025-02-19T13:07:07.456520Z"
    }
   },
   "source": [
    "from scipy.stats import chi2_contingency\n",
    "import pandas as pd\n",
    "import numpy as np\n",
    "\n",
    "\n",
    "def pep8_columns(dataframe: pd.DataFrame) -> pd.DataFrame:\n",
    "    dataframe.columns = [col.lower().replace(' ', '_') for col in dataframe.columns]\n",
    "    return dataframe\n",
    "\n",
    "\n",
    "def cramers_stat(confusion_matrix):\n",
    "    confusion_matrix = confusion_matrix.values\n",
    "    chi2 = chi2_contingency(confusion_matrix)[0]\n",
    "    n = confusion_matrix.sum()\n",
    "    r, k = confusion_matrix.shape\n",
    "    return np.sqrt((chi2 / n) / (min(k, r) - 1))\n",
    "\n",
    "\n",
    "df = pd.read_csv('data_1.csv', sep=',', encoding='cp1251')  # encoding='' utf-8 cp1251\n",
    "df = pep8_columns(df).dropna()\n",
    "\n",
    "df = df[(df['ингредиент_1'] < 270) & (df['номер_смены'] == 2)]\n",
    "\n",
    "confusion_matrix = pd.crosstab(df['оператор_линии'], df['брак'])\n",
    "print(cramers_stat(confusion_matrix).round(4))\n",
    "\n",
    "\n",
    "# def cramers_corrected_stat(confusion_matrix):\n",
    "#     confusion_matrix = confusion_matrix.values\n",
    "#     chi2 = chi2_contingency(confusion_matrix)[0]\n",
    "#     n = confusion_matrix.sum()\n",
    "#     phi2 = chi2 / n\n",
    "#     r, k = confusion_matrix.shape\n",
    "#     phi2corr = max(0, phi2 - ((k - 1) * (r - 1)) / (n - 1))\n",
    "#     rcorr = r - ((r - 1) ** 2) / (n - 1)\n",
    "#     kcorr = k - ((k - 1) ** 2) / (n - 1)\n",
    "#     print(chi2, phi2, phi2corr, (rcorr, kcorr), (r, k), n)\n",
    "#     return np.sqrt(phi2corr / (min(kcorr, rcorr) - 1))"
   ],
   "outputs": [
    {
     "name": "stdout",
     "output_type": "stream",
     "text": [
      "брак            Брак  Годен\n",
      "оператор_линии             \n",
      "1                  3      3\n",
      "2                  1     12\n",
      "0.2571\n"
     ]
    }
   ],
   "execution_count": 48
  }
 ],
 "metadata": {
  "kernelspec": {
   "display_name": "Python 3",
   "language": "python",
   "name": "python3"
  },
  "language_info": {
   "codemirror_mode": {
    "name": "ipython",
    "version": 2
   },
   "file_extension": ".py",
   "mimetype": "text/x-python",
   "name": "python",
   "nbconvert_exporter": "python",
   "pygments_lexer": "ipython2",
   "version": "2.7.6"
  }
 },
 "nbformat": 4,
 "nbformat_minor": 5
}
