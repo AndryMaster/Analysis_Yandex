{
 "cells": [
  {
   "cell_type": "code",
   "id": "initial_id",
   "metadata": {
    "collapsed": true,
    "ExecuteTime": {
     "end_time": "2025-02-19T13:28:57.966946Z",
     "start_time": "2025-02-19T13:28:57.954225Z"
    }
   },
   "source": [
    "from scipy.stats import chi2_contingency\n",
    "import pandas as pd\n",
    "import numpy as np\n",
    "\n",
    "\n",
    "def pep8_columns(dataframe: pd.DataFrame) -> pd.DataFrame:\n",
    "    dataframe.columns = [col.lower().replace(' ', '_') for col in dataframe.columns]\n",
    "    return dataframe\n",
    "\n",
    "\n",
    "def cramers_stat(confusion_matrix):\n",
    "    confusion_matrix = confusion_matrix.values\n",
    "    chi2 = chi2_contingency(confusion_matrix)[0]\n",
    "    n = confusion_matrix.sum()\n",
    "    r, k = confusion_matrix.shape\n",
    "    return np.sqrt((chi2 / n) / (min(k, r) - 1))\n",
    "\n",
    "\n",
    "df = pd.read_csv('data_1.csv', sep=',', encoding='cp1251')  # encoding='' utf-8 cp1251\n",
    "df = pep8_columns(df).dropna()\n",
    "\n",
    "df['ингредиент_кат'] = df['ингредиент_1'].apply(lambda x: 'менее_270' if x <= 270 else 'более_270')\n",
    "\n",
    "confusion_matrix = pd.crosstab(df['ингредиент_кат'], df['брак'])\n",
    "print(cramers_stat(confusion_matrix).round(4))\n",
    "\n",
    "\n",
    "# def cramers_corrected_stat(confusion_matrix):\n",
    "#     confusion_matrix = confusion_matrix.values\n",
    "#     chi2 = chi2_contingency(confusion_matrix)[0]\n",
    "#     n = confusion_matrix.sum()\n",
    "#     phi2 = chi2 / n\n",
    "#     r, k = confusion_matrix.shape\n",
    "#     phi2corr = max(0, phi2 - ((k - 1) * (r - 1)) / (n - 1))\n",
    "#     rcorr = r - ((r - 1) ** 2) / (n - 1)\n",
    "#     kcorr = k - ((k - 1) ** 2) / (n - 1)\n",
    "#     print(chi2, phi2, phi2corr, (rcorr, kcorr), (r, k), n)\n",
    "#     return np.sqrt(phi2corr / (min(kcorr, rcorr) - 1))"
   ],
   "outputs": [
    {
     "name": "stdout",
     "output_type": "stream",
     "text": [
      "брак            Брак  Годен\n",
      "ингредиент_кат             \n",
      "более_270          6      0\n",
      "менее_270         13     24\n",
      "6.374157874980245 0.14823622965070338 0.12442670584117957 (1.9761904761904763, 1.9761904761904763) (2, 2) 43\n",
      "0.385\n"
     ]
    }
   ],
   "execution_count": 14
  }
 ],
 "metadata": {
  "kernelspec": {
   "display_name": "Python 3",
   "language": "python",
   "name": "python3"
  },
  "language_info": {
   "codemirror_mode": {
    "name": "ipython",
    "version": 2
   },
   "file_extension": ".py",
   "mimetype": "text/x-python",
   "name": "python",
   "nbconvert_exporter": "python",
   "pygments_lexer": "ipython2",
   "version": "2.7.6"
  }
 },
 "nbformat": 4,
 "nbformat_minor": 5
}
