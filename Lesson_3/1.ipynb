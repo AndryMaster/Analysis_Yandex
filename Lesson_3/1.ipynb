{
 "cells": [
  {
   "cell_type": "code",
   "id": "initial_id",
   "metadata": {
    "collapsed": true,
    "ExecuteTime": {
     "end_time": "2025-02-19T11:04:22.398766Z",
     "start_time": "2025-02-19T11:04:22.388997Z"
    }
   },
   "source": [
    "import pandas as pd\n",
    "\n",
    "\n",
    "def pep8_columns(dataframe: pd.DataFrame) -> pd.DataFrame:\n",
    "    dataframe.columns = [col.lower().replace(' ', '_') for col in dataframe.columns]\n",
    "    return dataframe\n",
    "\n",
    "\n",
    "df = pd.read_csv('data_1.csv', sep=',')  # encoding='' utf-8 cp1251\n",
    "df = pep8_columns(df)\n",
    "df = df[['вес', 'ингредиент_1', 'ингредиент_2']]\n",
    "\n",
    "print(df.corr())\n",
    "#                    вес  ингредиент_1  ингредиент_2\n",
    "# вес           1.000000     -0.002662      0.664944\n",
    "# ингредиент_1 -0.002662      1.000000      0.091276\n",
    "# ингредиент_2  0.664944      0.091276      1.000000\n",
    "\n",
    "print(df.columns)\n",
    "print(df.info())"
   ],
   "outputs": [
    {
     "name": "stdout",
     "output_type": "stream",
     "text": [
      "                   вес  ингредиент_1  ингредиент_2\n",
      "вес           1.000000     -0.002662      0.664944\n",
      "ингредиент_1 -0.002662      1.000000      0.091276\n",
      "ингредиент_2  0.664944      0.091276      1.000000\n",
      "Index(['вес', 'ингредиент_1', 'ингредиент_2'], dtype='object')\n",
      "<class 'pandas.core.frame.DataFrame'>\n",
      "RangeIndex: 43 entries, 0 to 42\n",
      "Data columns (total 3 columns):\n",
      " #   Column        Non-Null Count  Dtype  \n",
      "---  ------        --------------  -----  \n",
      " 0   вес           43 non-null     float64\n",
      " 1   ингредиент_1  43 non-null     float64\n",
      " 2   ингредиент_2  43 non-null     float64\n",
      "dtypes: float64(3)\n",
      "memory usage: 1.1 KB\n",
      "None\n"
     ]
    }
   ],
   "execution_count": 4
  }
 ],
 "metadata": {
  "kernelspec": {
   "display_name": "Python 3",
   "language": "python",
   "name": "python3"
  },
  "language_info": {
   "codemirror_mode": {
    "name": "ipython",
    "version": 2
   },
   "file_extension": ".py",
   "mimetype": "text/x-python",
   "name": "python",
   "nbconvert_exporter": "python",
   "pygments_lexer": "ipython2",
   "version": "2.7.6"
  }
 },
 "nbformat": 4,
 "nbformat_minor": 5
}
