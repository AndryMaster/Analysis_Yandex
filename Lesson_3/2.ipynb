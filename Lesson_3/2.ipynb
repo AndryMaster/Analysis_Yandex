{
 "cells": [
  {
   "cell_type": "code",
   "id": "initial_id",
   "metadata": {
    "collapsed": true,
    "ExecuteTime": {
     "end_time": "2025-02-19T12:20:40.796919Z",
     "start_time": "2025-02-19T12:20:40.786682Z"
    }
   },
   "source": [
    "import pandas as pd\n",
    "import numpy as np\n",
    "\n",
    "\n",
    "def pep8_columns(dataframe: pd.DataFrame) -> pd.DataFrame:\n",
    "    dataframe.columns = [col.lower().replace(' ', '_') for col in dataframe.columns]\n",
    "    return dataframe\n",
    "\n",
    "\n",
    "df = pd.read_csv('data_2.csv', sep=',', encoding='cp1251')  # encoding='' utf-8 cp1251\n",
    "df = pep8_columns(df)\n",
    "\n",
    "df = df.groupby(by='key').sum().corr(method='spearman')\n",
    "df[df.abs() < .85] = np.nan\n",
    "\n",
    "print(df)\n",
    "\n",
    "#                  полная_мощность  время_нагрева  вес_добавки\n",
    "# полная_мощность         1.000000       0.993236     0.893739\n",
    "# время_нагрева           0.993236       1.000000     0.886950\n",
    "# вес_добавки             0.893739       0.886950     1.000000\n",
    "\n",
    "# print(df.columns)\n",
    "# print(df.info())"
   ],
   "outputs": [
    {
     "name": "stdout",
     "output_type": "stream",
     "text": [
      "                 полная_мощность  время_нагрева  вес_добавки\n",
      "полная_мощность         1.000000       0.988677          NaN\n",
      "время_нагрева           0.988677       1.000000          NaN\n",
      "вес_добавки                  NaN            NaN          1.0\n"
     ]
    }
   ],
   "execution_count": 17
  }
 ],
 "metadata": {
  "kernelspec": {
   "display_name": "Python 3",
   "language": "python",
   "name": "python3"
  },
  "language_info": {
   "codemirror_mode": {
    "name": "ipython",
    "version": 2
   },
   "file_extension": ".py",
   "mimetype": "text/x-python",
   "name": "python",
   "nbconvert_exporter": "python",
   "pygments_lexer": "ipython2",
   "version": "2.7.6"
  }
 },
 "nbformat": 4,
 "nbformat_minor": 5
}
