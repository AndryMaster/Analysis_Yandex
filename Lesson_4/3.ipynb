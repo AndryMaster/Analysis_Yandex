{
 "cells": [
  {
   "cell_type": "code",
   "id": "initial_id",
   "metadata": {
    "collapsed": true,
    "ExecuteTime": {
     "end_time": "2025-02-25T11:18:46.461370Z",
     "start_time": "2025-02-25T11:18:46.451261Z"
    }
   },
   "source": [
    "import pandas as pd\n",
    "import numpy as np\n",
    "\n",
    "\n",
    "df = pd.read_csv('3.csv', sep=';')\n",
    "\n",
    "df = df[(df['название'] == 'Полёт') & (50 < df['вес_шоколадки']) & (df['вес_шоколадки'] < 90)]\n",
    "\n",
    "values = list(df['вес_шоколадки'])\n",
    "print(values)\n",
    "\n",
    "mean = np.mean(values)\n",
    "std = np.std(values)\n",
    "\n",
    "Z = 1.96\n",
    "H = 1.0\n",
    "n = (Z * std / H) ** 2\n",
    "\n",
    "# print(mean, std, Z, H, n)\n",
    "print(round(n))"
   ],
   "outputs": [
    {
     "name": "stdout",
     "output_type": "stream",
     "text": [
      "[81, 74, 71, 70, 68, 76, 70, 73, 65, 75, 73, 70, 67, 59, 63, 68, 65, 65, 81, 69, 64, 57, 58, 68, 70, 71, 71, 71, 65, 72, 69, 68, 62, 71, 74, 74, 70, 67, 86, 73, 71, 77, 70, 65, 70, 66, 75, 66, 74, 75, 74, 77, 71, 69, 67, 67, 75, 60, 68, 63, 82, 62, 58, 71, 67, 67, 71, 72, 75, 73, 70, 66, 73, 70, 69, 71, 73, 64, 71, 69, 73, 81, 71, 68, 65, 66, 69, 74, 70, 72, 73, 68, 65, 82, 70, 62, 73, 70]\n",
      "107\n"
     ]
    }
   ],
   "execution_count": 12
  }
 ],
 "metadata": {
  "kernelspec": {
   "display_name": "Python 3",
   "language": "python",
   "name": "python3"
  },
  "language_info": {
   "codemirror_mode": {
    "name": "ipython",
    "version": 2
   },
   "file_extension": ".py",
   "mimetype": "text/x-python",
   "name": "python",
   "nbconvert_exporter": "python",
   "pygments_lexer": "ipython2",
   "version": "2.7.6"
  }
 },
 "nbformat": 4,
 "nbformat_minor": 5
}
