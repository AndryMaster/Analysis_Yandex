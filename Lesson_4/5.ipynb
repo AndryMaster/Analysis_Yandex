{
 "cells": [
  {
   "cell_type": "code",
   "id": "initial_id",
   "metadata": {
    "collapsed": true,
    "ExecuteTime": {
     "end_time": "2025-02-25T13:59:15.527600Z",
     "start_time": "2025-02-25T13:59:15.520207Z"
    }
   },
   "source": [
    "import numpy as np\n",
    "import pandas as pd\n",
    "\n",
    "\n",
    "df = pd.read_csv('5_1.csv')\n",
    "values = list(df['вес_шоколадки'])\n",
    "\n",
    "Z = 1.96\n",
    "N = 8000\n",
    "\n",
    "n = len(values)\n",
    "n *= N / (N + n - 1)  # Norm n\n",
    "n = round(n)\n",
    "\n",
    "p = sum((1 if val >= 100 else 0 for val in values)) / len(values)\n",
    "# p = round(p, 3)\n",
    "\n",
    "H = (Z * (p * (1 - p)) ** 0.5) / (n ** 0.5)\n",
    "# H = round(H, 3)\n",
    "\n",
    "new_H = H / 5\n",
    "new_H = round(new_H, 3)\n",
    "\n",
    "new_n = (Z * (p * (1 - p)) ** 0.5 / new_H) ** 2\n",
    "new_n *= (N + n - 1) / N  # Denorm n\n",
    "new_n = round(new_n)\n",
    "\n",
    "print(p, H, new_H, n, new_n, len(values), values[:10])\n",
    "print(round(H, 3), ',', round(new_n))  \n",
    "\n",
    "# 1)  0.083 , 4897\n",
    "# 1)  0.078 , 5471"
   ],
   "outputs": [
    {
     "name": "stdout",
     "output_type": "stream",
     "text": [
      "0.6464646464646465 0.06744755817939077 0.013 193 5320 198 [96, 98, 97, 96, 97, 102, 103, 104, 103, 101]\n",
      "0.067 , 5320\n",
      "198 0.22070328200777178\n"
     ]
    }
   ],
   "execution_count": 80
  }
 ],
 "metadata": {
  "kernelspec": {
   "display_name": "Python 3",
   "language": "python",
   "name": "python3"
  },
  "language_info": {
   "codemirror_mode": {
    "name": "ipython",
    "version": 2
   },
   "file_extension": ".py",
   "mimetype": "text/x-python",
   "name": "python",
   "nbconvert_exporter": "python",
   "pygments_lexer": "ipython2",
   "version": "2.7.6"
  }
 },
 "nbformat": 4,
 "nbformat_minor": 5
}
