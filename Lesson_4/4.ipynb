{
 "cells": [
  {
   "cell_type": "code",
   "id": "initial_id",
   "metadata": {
    "collapsed": true,
    "ExecuteTime": {
     "end_time": "2025-02-25T11:31:38.839982Z",
     "start_time": "2025-02-25T11:31:38.832477Z"
    }
   },
   "source": [
    "import pandas as pd\n",
    "import numpy as np\n",
    "\n",
    "\n",
    "H = np.arange(1, 10, 1)\n",
    "n = (1.96 * 0.5 * 100 / H) ** 2\n",
    "\n",
    "df = pd.DataFrame({'допустимая_ошибка': H,\n",
    "                   'размер_выборки': n.astype(int)})\n",
    "\n",
    "print(df)"
   ],
   "outputs": [
    {
     "name": "stdout",
     "output_type": "stream",
     "text": [
      "   допустимая_ошибка  размер_выборки\n",
      "0                  1            9604\n",
      "1                  2            2401\n",
      "2                  3            1067\n",
      "3                  4             600\n",
      "4                  5             384\n",
      "5                  6             266\n",
      "6                  7             196\n",
      "7                  8             150\n",
      "8                  9             118\n"
     ]
    }
   ],
   "execution_count": 9
  }
 ],
 "metadata": {
  "kernelspec": {
   "display_name": "Python 3",
   "language": "python",
   "name": "python3"
  },
  "language_info": {
   "codemirror_mode": {
    "name": "ipython",
    "version": 2
   },
   "file_extension": ".py",
   "mimetype": "text/x-python",
   "name": "python",
   "nbconvert_exporter": "python",
   "pygments_lexer": "ipython2",
   "version": "2.7.6"
  }
 },
 "nbformat": 4,
 "nbformat_minor": 5
}
