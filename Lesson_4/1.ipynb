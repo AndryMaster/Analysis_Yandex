{
 "cells": [
  {
   "cell_type": "code",
   "id": "initial_id",
   "metadata": {
    "collapsed": true,
    "ExecuteTime": {
     "end_time": "2025-02-25T10:17:28.348212Z",
     "start_time": "2025-02-25T10:17:28.340211Z"
    }
   },
   "source": [
    "import pandas as pd\n",
    "\n",
    "\n",
    "df = pd.read_csv('1.csv', sep=';')\n",
    "n = df.iloc[0]['число_опрошенных']\n",
    "p = float(df.iloc[0]['доля_ответов'].replace(',', '.'))\n",
    "Z = float(df.iloc[0]['доверительный_уровень'].replace(',', '.'))\n",
    "\n",
    "H = Z * (p * (1 - p)) ** 0.5 / n ** 0.5\n",
    "\n",
    "# print(df, n, p, Z, H)\n",
    "print(round((p - H) * 100, 2), round((p + H) * 100, 2))"
   ],
   "outputs": [
    {
     "name": "stdout",
     "output_type": "stream",
     "text": [
      "22.55 27.45\n"
     ]
    }
   ],
   "execution_count": 19
  }
 ],
 "metadata": {
  "kernelspec": {
   "display_name": "Python 3",
   "language": "python",
   "name": "python3"
  },
  "language_info": {
   "codemirror_mode": {
    "name": "ipython",
    "version": 2
   },
   "file_extension": ".py",
   "mimetype": "text/x-python",
   "name": "python",
   "nbconvert_exporter": "python",
   "pygments_lexer": "ipython2",
   "version": "2.7.6"
  }
 },
 "nbformat": 4,
 "nbformat_minor": 5
}
