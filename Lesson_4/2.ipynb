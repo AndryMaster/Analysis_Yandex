{
 "cells": [
  {
   "cell_type": "code",
   "id": "initial_id",
   "metadata": {
    "collapsed": true,
    "ExecuteTime": {
     "end_time": "2025-02-25T11:02:00.695876Z",
     "start_time": "2025-02-25T11:02:00.688878Z"
    }
   },
   "source": [
    "import pandas as pd\n",
    "\n",
    "\n",
    "df = pd.read_csv('2.csv', sep=';')\n",
    "values = list(df['пробег'])\n",
    "\n",
    "Z = 1.96\n",
    "n = len(values)\n",
    "p = sum((1 if val > 140 else 0 for val in values)) / len(values)\n",
    "\n",
    "H = Z * (p * (1 - p)) ** 0.5 / n ** 0.5\n",
    "\n",
    "# print(n, p, Z, H, values[:10])\n",
    "print(round((p - H) * 100, 2), round((p + H) * 100, 2))"
   ],
   "outputs": [
    {
     "name": "stdout",
     "output_type": "stream",
     "text": [
      "[81, 163, 134, 153, 160, 175, 152, 142, 160, 193] 200 0.545 1.96 0.06901524324379361\n",
      "47.6 61.4\n"
     ]
    }
   ],
   "execution_count": 12
  }
 ],
 "metadata": {
  "kernelspec": {
   "display_name": "Python 3",
   "language": "python",
   "name": "python3"
  },
  "language_info": {
   "codemirror_mode": {
    "name": "ipython",
    "version": 2
   },
   "file_extension": ".py",
   "mimetype": "text/x-python",
   "name": "python",
   "nbconvert_exporter": "python",
   "pygments_lexer": "ipython2",
   "version": "2.7.6"
  }
 },
 "nbformat": 4,
 "nbformat_minor": 5
}
