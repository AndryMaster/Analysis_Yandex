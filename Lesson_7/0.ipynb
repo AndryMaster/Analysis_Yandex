{
 "cells": [
  {
   "metadata": {},
   "cell_type": "markdown",
   "source": "## Change encoding",
   "id": "44379422b59fc893"
  },
  {
   "cell_type": "code",
   "id": "initial_id",
   "metadata": {
    "collapsed": true,
    "ExecuteTime": {
     "end_time": "2025-03-22T06:07:38.690655Z",
     "start_time": "2025-03-22T06:07:38.681005Z"
    }
   },
   "source": [
    "import pandas as pd\n",
    "\n",
    "for i in range(2, 4):\n",
    "    df = pd.read_csv(f\"data_{i}.csv\", sep=\";\", encoding=\"utf-8\")\n",
    "    # df = df[df.columns[:-1]]\n",
    "    df.to_csv(f\"data_{i}.csv\", sep=\";\", index=False, encoding=\"utf-8\")"
   ],
   "outputs": [],
   "execution_count": 4
  }
 ],
 "metadata": {
  "kernelspec": {
   "display_name": "Python 3",
   "language": "python",
   "name": "python3"
  },
  "language_info": {
   "codemirror_mode": {
    "name": "ipython",
    "version": 2
   },
   "file_extension": ".py",
   "mimetype": "text/x-python",
   "name": "python",
   "nbconvert_exporter": "python",
   "pygments_lexer": "ipython2",
   "version": "2.7.6"
  }
 },
 "nbformat": 4,
 "nbformat_minor": 5
}
