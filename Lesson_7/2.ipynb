{
 "cells": [
  {
   "cell_type": "code",
   "id": "initial_id",
   "metadata": {
    "collapsed": true,
    "ExecuteTime": {
     "end_time": "2025-03-22T06:08:02.026285Z",
     "start_time": "2025-03-22T06:08:02.016531Z"
    }
   },
   "source": [
    "import pandas as pd\n",
    "\n",
    "from sklearn.preprocessing import OneHotEncoder\n",
    "from sklearn.linear_model import LinearRegression\n",
    "from sklearn.model_selection import train_test_split\n",
    "\n",
    "\n",
    "df = pd.read_csv(\"data_2.csv\", sep=';')\n",
    "\n",
    "ohe = OneHotEncoder(sparse_output=False, drop='first')\n",
    "df['rain'] = ohe.fit_transform(df[['дождь']])\n",
    "\n",
    "# print(df.info())\n",
    "# print(df.head())\n",
    "\n",
    "\n",
    "df_train, df_test = train_test_split(df, test_size=0.15, random_state=42)\n",
    "\n",
    "linear_reg = LinearRegression()\n",
    "linear_reg.fit(df_train[['температура', 'rain']], df_train['продажи'])\n",
    "\n",
    "y_pred = linear_reg.predict(df_test[['температура', 'rain']])\n",
    "print(y_pred.round())"
   ],
   "outputs": [
    {
     "name": "stdout",
     "output_type": "stream",
     "text": [
      "[162. 155. 120. 128. 128. 135. 176. 120. 142.  72. 169.  99. 162. 100.\n",
      " 114.]\n"
     ]
    }
   ],
   "execution_count": 15
  }
 ],
 "metadata": {
  "kernelspec": {
   "display_name": "Python 3",
   "language": "python",
   "name": "python3"
  },
  "language_info": {
   "codemirror_mode": {
    "name": "ipython",
    "version": 2
   },
   "file_extension": ".py",
   "mimetype": "text/x-python",
   "name": "python",
   "nbconvert_exporter": "python",
   "pygments_lexer": "ipython2",
   "version": "2.7.6"
  }
 },
 "nbformat": 4,
 "nbformat_minor": 5
}
