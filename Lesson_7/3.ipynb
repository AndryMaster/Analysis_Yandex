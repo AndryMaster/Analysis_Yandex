{
 "cells": [
  {
   "cell_type": "code",
   "id": "initial_id",
   "metadata": {
    "collapsed": true,
    "ExecuteTime": {
     "end_time": "2025-03-22T06:11:49.379920Z",
     "start_time": "2025-03-22T06:11:49.365067Z"
    }
   },
   "source": [
    "import pandas as pd\n",
    "\n",
    "from sklearn.preprocessing import OneHotEncoder\n",
    "from sklearn.linear_model import LinearRegression\n",
    "from sklearn.model_selection import train_test_split\n",
    "from sklearn.metrics import mean_absolute_error, r2_score\n",
    "\n",
    "\n",
    "df = pd.read_csv(\"data_3.csv\", sep=';')\n",
    "\n",
    "ohe = OneHotEncoder(sparse_output=False, drop='first')\n",
    "df['кузов'] = ohe.fit_transform(df[['кузов']])\n",
    "\n",
    "# print(df.info())\n",
    "# print(df.head())\n",
    "\n",
    "\n",
    "df_train, df_test = train_test_split(df, test_size=0.15, random_state=42)\n",
    "\n",
    "linear_reg = LinearRegression()\n",
    "linear_reg.fit(df_train[['возраст', 'мощность', 'кузов']], df_train['цена'])\n",
    "\n",
    "y_pred = linear_reg.predict(df_test[['возраст', 'мощность', 'кузов']])\n",
    "y_true = df_test['цена']\n",
    "\n",
    "print(round(r2_score(y_true, y_pred), 2), round(mean_absolute_error(y_true, y_pred), 2))"
   ],
   "outputs": [
    {
     "name": "stdout",
     "output_type": "stream",
     "text": [
      "<class 'pandas.core.frame.DataFrame'>\n",
      "RangeIndex: 1232 entries, 0 to 1231\n",
      "Data columns (total 4 columns):\n",
      " #   Column    Non-Null Count  Dtype  \n",
      "---  ------    --------------  -----  \n",
      " 0   цена      1232 non-null   int64  \n",
      " 1   возраст   1232 non-null   int64  \n",
      " 2   мощность  1232 non-null   int64  \n",
      " 3   кузов     1232 non-null   float64\n",
      "dtypes: float64(1), int64(3)\n",
      "memory usage: 38.6 KB\n",
      "None\n",
      "   цена  возраст  мощность  кузов\n",
      "0  9800       19       163    0.0\n",
      "1  1500       22        75    0.0\n",
      "2  3600       15        69    0.0\n",
      "3   650       28       102    0.0\n",
      "4  2200       19       109    0.0\n",
      "0.49 2418.39\n"
     ]
    }
   ],
   "execution_count": 5
  }
 ],
 "metadata": {
  "kernelspec": {
   "display_name": "Python 3",
   "language": "python",
   "name": "python3"
  },
  "language_info": {
   "codemirror_mode": {
    "name": "ipython",
    "version": 2
   },
   "file_extension": ".py",
   "mimetype": "text/x-python",
   "name": "python",
   "nbconvert_exporter": "python",
   "pygments_lexer": "ipython2",
   "version": "2.7.6"
  }
 },
 "nbformat": 4,
 "nbformat_minor": 5
}
