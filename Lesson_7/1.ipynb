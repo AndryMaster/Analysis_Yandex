{
 "cells": [
  {
   "cell_type": "code",
   "id": "initial_id",
   "metadata": {
    "collapsed": true,
    "ExecuteTime": {
     "end_time": "2025-03-22T05:40:58.473389Z",
     "start_time": "2025-03-22T05:40:58.461389Z"
    }
   },
   "source": [
    "import pandas as pd\n",
    "\n",
    "from sklearn.linear_model import LinearRegression\n",
    "from sklearn.model_selection import train_test_split\n",
    "\n",
    "df = pd.read_csv(\"data_1.csv\", sep=';')\n",
    "# print(df.info())\n",
    "# print(df.head())\n",
    "\n",
    "df_train, df_test = train_test_split(df, test_size=0.15, random_state=42)\n",
    "\n",
    "linear_reg = LinearRegression()\n",
    "linear_reg.fit(df_train[['температура', 'влажность']], df_train['продажи'])\n",
    "\n",
    "y_pred = linear_reg.predict(df_test[['температура', 'влажность']])\n",
    "print(y_pred.round())"
   ],
   "outputs": [
    {
     "name": "stdout",
     "output_type": "stream",
     "text": [
      "<class 'pandas.core.frame.DataFrame'>\n",
      "RangeIndex: 100 entries, 0 to 99\n",
      "Data columns (total 3 columns):\n",
      " #   Column       Non-Null Count  Dtype\n",
      "---  ------       --------------  -----\n",
      " 0   температура  100 non-null    int64\n",
      " 1   влажность    100 non-null    int64\n",
      " 2   продажи      100 non-null    int64\n",
      "dtypes: int64(3)\n",
      "memory usage: 2.5 KB\n",
      "None\n",
      "   температура  влажность  продажи\n",
      "0           17         41       93\n",
      "1           17         79       96\n",
      "2           17         73       97\n",
      "3           18         64      101\n",
      "4           18         80      102\n",
      "[167. 159. 153. 127. 130. 135. 182. 150. 145. 100. 176. 129. 165.  99.\n",
      " 113.]\n"
     ]
    }
   ],
   "execution_count": 6
  }
 ],
 "metadata": {
  "kernelspec": {
   "display_name": "Python 3",
   "language": "python",
   "name": "python3"
  },
  "language_info": {
   "codemirror_mode": {
    "name": "ipython",
    "version": 2
   },
   "file_extension": ".py",
   "mimetype": "text/x-python",
   "name": "python",
   "nbconvert_exporter": "python",
   "pygments_lexer": "ipython2",
   "version": "2.7.6"
  }
 },
 "nbformat": 4,
 "nbformat_minor": 5
}
